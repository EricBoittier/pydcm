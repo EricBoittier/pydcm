{
 "cells": [
  {
   "cell_type": "markdown",
   "metadata": {},
   "source": [
    "# PyDCM JupyterLab Notebook to fit MDCM charges from a Gaussian Cube file"
   ]
  },
  {
   "cell_type": "code",
   "execution_count": 1,
   "metadata": {},
   "outputs": [],
   "source": [
    "import sys, os\n",
    "#ars_path = \"/home/unibas/boittier/pydcm-1.2/\"\n",
    "ars_path = \"/home/boittier/pydcm\"\n",
    "\n",
    "sys.path.insert(1, ars_path)\n",
    "from pydcm import *"
   ]
  },
  {
   "cell_type": "markdown",
   "metadata": {},
   "source": [
    "# Setup: Define these variables for your system:\n",
    "You should check and set these variables by hand for your system"
   ]
  },
  {
   "cell_type": "code",
   "execution_count": 8,
   "metadata": {},
   "outputs": [],
   "source": [
    "# The Gaussian-format cube file containing electron density:\n",
    "refDensCube=\"/home/boittier/eric/cis_dbb_dens.cube\"\n",
    "# The Gaussian-format cube file containing electrostatic potential energy:\n",
    "refPotCube=\"/home/boittier/eric/cis_dbb_pot.cube\"\n",
    "# The root folder for your fitting project\n",
    "projDir=\"/home/boittier/pydcm/models/taylan1\"\n",
    "# The bin directory containing the MDCM scripts and programs\n",
    "refBinDir=\"/home/boittier/pydcm/bin\"\n",
    "# The total charge of the molecule to be fitted (a.u.)\n",
    "qtot=0.0\n",
    "# The port to use for the local web browser (to view molecules in NGL). Make sure nobody else is using it already!\n",
    "webPort='8884'\n",
    "# The name of a Slurm partition allowing jobs to run for up to 2 hours with 4 cores\n",
    "#shortQ='short' # pc-nccr\n",
    "shortQ='vshort'\n",
    "longQ='infinite'\n",
    "# The desired isodensity surface to use for viewing potential energy surfaces (a.u)\n",
    "isoSurf=0.001\n",
    "\n",
    "workdir = projDir + '/'\n",
    "refdir = workdir + 'ref/'\n",
    "htmldir = workdir + 'html/'\n",
    "bindir = refBinDir + '/'\n",
    "pdbfile = refdir + 'mol.pdb'\n",
    "densCube = refdir + os.path.basename(refDensCube)\n",
    "potCube = refdir + os.path.basename(refPotCube)"
   ]
  },
  {
   "cell_type": "markdown",
   "metadata": {},
   "source": [
    "## Step 1: Load files and view reference ESP"
   ]
  },
  {
   "cell_type": "markdown",
   "metadata": {},
   "source": [
    "### Create the desired folder structure and copy files there\n",
    "This will use the \"projDir\" you selected as the root directory for this fitting project, copying reference files there and creating new files and subfolders as necessary."
   ]
  },
  {
   "cell_type": "code",
   "execution_count": 9,
   "metadata": {},
   "outputs": [
    {
     "name": "stdout",
     "output_type": "stream",
     "text": [
      "Changed to working directory /home/boittier/pydcm/models/taylan1/\n",
      "10 atoms in molecule\n",
      "writing PDB file  /home/boittier/pydcm/models/taylan1/ref/mol.pdb\n"
     ]
    }
   ],
   "source": [
    "coords = make_ref_directory(projDir, refBinDir, refDensCube, refPotCube)"
   ]
  },
  {
   "cell_type": "markdown",
   "metadata": {},
   "source": [
    "### Start local web server\n",
    "If it worked then you should see something like \"Serving HTTP on 0.0.0.0 port 8000 (http://0.0.0.0:8000/) ...\" in the console where you started jupyter-lab. The port will be the webPort you set above."
   ]
  },
  {
   "cell_type": "code",
   "execution_count": 10,
   "metadata": {},
   "outputs": [
    {
     "name": "stdout",
     "output_type": "stream",
     "text": [
      "python /home/boittier/pydcm/bin/simple-cors-http-server.py 8884\n",
      "Running jobs:\n",
      "0 : run_http()\n",
      "\n",
      "Web server running in directory /home/boittier/pydcm/models/taylan1, URLs are relative to this path\n",
      "If you change the project directory, you need to restart Jupyter-Lab to restart this server and create a new root for URLs\n"
     ]
    }
   ],
   "source": [
    "start_server(workdir, bindir, webPort)"
   ]
  },
  {
   "cell_type": "markdown",
   "metadata": {},
   "source": [
    "### The next cell loads your selected reference Gaussian cube files and prepares an HTML script to plot the ESP on a molecular isodensity surface"
   ]
  },
  {
   "cell_type": "code",
   "execution_count": 11,
   "metadata": {},
   "outputs": [
    {
     "name": "stdout",
     "output_type": "stream",
     "text": [
      "ESP range: -0.0334128 to 0.0334128 a.u.\n",
      "8884 /home/boittier/pydcm/models/taylan1/html/ /home/boittier/pydcm/models/taylan1/ref/mol.pdb\n",
      "http://localhost:8884/html/refESP.html\n"
     ]
    },
    {
     "data": {
      "text/html": [
       "\n",
       "        <iframe\n",
       "            width=\"1120\"\n",
       "            height=\"750\"\n",
       "            src=\"http://localhost:8884/html/refESP.html\"\n",
       "            frameborder=\"0\"\n",
       "            allowfullscreen\n",
       "        ></iframe>\n",
       "        "
      ],
      "text/plain": [
       "<IPython.lib.display.IFrame at 0x2b7f4c785588>"
      ]
     },
     "execution_count": 11,
     "metadata": {},
     "output_type": "execute_result"
    }
   ],
   "source": [
    "display, maxESP = show_ref_models(densCube, potCube, htmldir, webPort, pdbfile, isoSurf=0.001)\n",
    "display"
   ]
  },
  {
   "cell_type": "markdown",
   "metadata": {},
   "source": [
    "## Step 2: Fit multipoles to reference ESP\n",
    "\n"
   ]
  },
  {
   "cell_type": "code",
   "execution_count": 13,
   "metadata": {},
   "outputs": [
    {
     "name": "stdout",
     "output_type": "stream",
     "text": [
      "/home/boittier/pydcm/bin/mtpfit.py\n"
     ]
    },
    {
     "data": {
      "text/html": [
       "\n",
       "        <iframe\n",
       "            width=\"1120\"\n",
       "            height=\"1550\"\n",
       "            src=\"http://localhost:8884/html/mtpFit.html\"\n",
       "            frameborder=\"0\"\n",
       "            allowfullscreen\n",
       "        ></iframe>\n",
       "        "
      ],
      "text/plain": [
       "<IPython.lib.display.IFrame at 0x2b7f4c7855c0>"
      ]
     },
     "execution_count": 13,
     "metadata": {},
     "output_type": "execute_result"
    }
   ],
   "source": [
    "mtpfile, display = display_mtpfit_comparison(workdir, bindir, htmldir, potCube, densCube, qtot, webPort, maxESP, isoSurf=0.001)\n",
    "display"
   ]
  },
  {
   "cell_type": "markdown",
   "metadata": {},
   "source": [
    "## Step 3: Fit atomic charge models using atomic multipoles from step 2\n",
    "\n",
    "Now the atomic multipoles are available, we can fit atomic charge models to them. This step is fast for 1 or 2 charges, but already takes up to an hour or so for 4 charges if the ESP grid you provided contains a lot of grid points (i.e. is a relatively fine or large grid)"
   ]
  },
  {
   "cell_type": "code",
   "execution_count": 16,
   "metadata": {},
   "outputs": [
    {
     "name": "stdout",
     "output_type": "stream",
     "text": [
      "Atom 9: Job 3480663 is still running\n",
      "Atom 10: Job 3480664 is still running\n",
      "\n",
      "## 1Charges Per Atom:\n",
      "Atom 1 final RMSE: 3.399882717 kcal/mol\n",
      "Atom 2 final RMSE: 2.491802043 kcal/mol\n",
      "Atom 3 final RMSE: 1.154562382 kcal/mol\n",
      "Atom 4 final RMSE: 2.681355344 kcal/mol\n",
      "Atom 5 final RMSE: 1.343491521 kcal/mol\n",
      "Atom 6 final RMSE: 0.9222184538 kcal/mol\n",
      "Atom 7 final RMSE: 0.9177722457 kcal/mol\n",
      "Atom 8 final RMSE: 1.739929285 kcal/mol\n",
      "Atom 9 final RMSE: 0 kcal/mol\n",
      "Atom 10 final RMSE: 0 kcal/mol\n",
      "\n",
      "## 2Charges Per Atom:\n",
      "Atom 1 final RMSE: 0.4755771561 kcal/mol\n",
      "Atom 2 final RMSE: 0.8821373871 kcal/mol\n",
      "Atom 3 final RMSE: 0.6416117124 kcal/mol\n",
      "Atom 4 final RMSE: 0.5706427711 kcal/mol\n",
      "Atom 5 final RMSE: 1.095957304 kcal/mol\n",
      "Atom 6 final RMSE: 0.7330117046 kcal/mol\n",
      "Atom 7 final RMSE: 0.5988869251 kcal/mol\n",
      "Atom 8 final RMSE: 0.414906541 kcal/mol\n",
      "Atom 9 final RMSE: 0 kcal/mol\n",
      "Atom 10 final RMSE: 0 kcal/mol\n",
      "\n",
      "## 3Charges Per Atom:\n",
      "Atom 1 final RMSE: 0.1845983419 kcal/mol\n",
      "Atom 2 final RMSE: 0.1044414987 kcal/mol\n",
      "Atom 3 final RMSE: 0.1054191323 kcal/mol\n",
      "Atom 4 final RMSE: 0.1151799036 kcal/mol\n",
      "Atom 5 final RMSE: 0.1961614248 kcal/mol\n",
      "Atom 6 final RMSE: 0.3478102242 kcal/mol\n",
      "Atom 7 final RMSE: 0.3861620556 kcal/mol\n",
      "Atom 8 final RMSE: 0.06803329848 kcal/mol\n",
      "Atom 9 final RMSE: 0 kcal/mol\n",
      "Atom 10 final RMSE: 0 kcal/mol\n",
      "\n",
      "## 4Charges Per Atom:\n",
      "Atom 1 final RMSE: 0.06834321844 kcal/mol\n",
      "Atom 2 final RMSE: 0.0643589825 kcal/mol\n",
      "Atom 3 final RMSE: 0.07743556172 kcal/mol\n",
      "Atom 4 final RMSE: 0.07257000083 kcal/mol\n",
      "Atom 5 final RMSE: 0.04658130175 kcal/mol\n",
      "Atom 6 final RMSE: 0.1557787532 kcal/mol\n",
      "Atom 7 final RMSE: 0.1141289153 kcal/mol\n",
      "Atom 8 final RMSE: 0.0504638194 kcal/mol\n",
      "Atom 9 final RMSE: 0 kcal/mol\n",
      "Atom 10 final RMSE: 0 kcal/mol\n"
     ]
    },
    {
     "data": {
      "image/png": "[encoded data removed]",
      "text/plain": [
       "<Figure size 1200x800 with 2 Axes>"
      ]
     },
     "metadata": {
      "needs_background": "light"
     },
     "output_type": "display_data"
    }
   ],
   "source": [
    "# Number of refinement iterations for each fit. More is better, but each fit will take longer\n",
    "ntry=4\n",
    "# Maximum number of charges to fit per atom (minimum is fixed at 1)\n",
    "maxAChg=4\n",
    "\n",
    "natm=10\n",
    "nfrag = 4\n",
    "\n",
    "rmse = do_atom_fit(workdir, bindir, natm, maxAChg, shortQ, mtpfile, potCube, densCube, ntry, coords, nfrag)"
   ]
  },
  {
   "cell_type": "markdown",
   "metadata": {},
   "source": [
    "## Step 4: Fit fragment charge models using atomic charge models from step 3\n",
    "\n",
    "The atomic charge models can now be used to generate an initial population for Differential Evolution fitting of fragment charge models. You need to define the fragments using their atom indices at the top of the cell (the NGL window at the top of the notebook shows the molecular structure with the atom numbers). You should also define the maximum and minimum number of charges you'd like to try per fragment. Note that you can use less than one charge on average per fragment atom if you wish, but you can't use more than maxAChg charges per atom (see previous cell for maxAChg)"
   ]
  },
  {
   "cell_type": "code",
   "execution_count": 8,
   "metadata": {},
   "outputs": [
    {
     "ename": "NameError",
     "evalue": "name 'frags' is not defined",
     "output_type": "error",
     "traceback": [
      "\u001b[0;31m---------------------------------------------------------------------------\u001b[0m",
      "\u001b[0;31mNameError\u001b[0m                                 Traceback (most recent call last)",
      "\u001b[0;32m<ipython-input-8-bd8350824b41>\u001b[0m in \u001b[0;36m<module>\u001b[0;34m\u001b[0m\n\u001b[0;32m----> 1\u001b[0;31m fit_fragments(workdir, frags, nfit, natm, maxAChg, atomdir, minFChg, \n\u001b[0m\u001b[1;32m      2\u001b[0m                   \u001b[0mmaxFChg\u001b[0m\u001b[0;34m,\u001b[0m \u001b[0mlongQ\u001b[0m\u001b[0;34m,\u001b[0m \u001b[0mbindir\u001b[0m\u001b[0;34m,\u001b[0m \u001b[0mrefdir\u001b[0m\u001b[0;34m,\u001b[0m \u001b[0mmtpfile\u001b[0m\u001b[0;34m,\u001b[0m \u001b[0mpotCube\u001b[0m\u001b[0;34m,\u001b[0m\u001b[0;34m\u001b[0m\u001b[0;34m\u001b[0m\u001b[0m\n\u001b[1;32m      3\u001b[0m                    densCube, ntry, htmldir, webPort, pdbfile)\n",
      "\u001b[0;31mNameError\u001b[0m: name 'frags' is not defined"
     ]
    }
   ],
   "source": [
    "fit_fragments(workdir, frags, nfit, natm, maxAChg, atomdir, minFChg, \n",
    "                  maxFChg, longQ, bindir, refdir, mtpfile, potCube,\n",
    "                   densCube, ntry, htmldir, webPort, pdbfile)"
   ]
  },
  {
   "cell_type": "markdown",
   "metadata": {},
   "source": [
    "## Step 5: Combine fragments to build a molecular model\n",
    "\n",
    "In this step for each desired total number of charges for the whole molecule, all possible permutations of the fragment models are combined to find the lowest RMSE. For example, if there are 2 fragments and we request 6 charges for the molecule then we can try 5 charges from fragment 1 and 1 charge from fragment 2, or 4 charges from fragment 1 and 2 charges from fragment 2 and so on. Note that the RMSE is just an estimate based on the individual RMSEs of the fragments."
   ]
  },
  {
   "cell_type": "code",
   "execution_count": null,
   "metadata": {},
   "outputs": [],
   "source": [
    "minMChg=18\n",
    "maxMChg=54\n",
    "\n",
    "combine_fragements(workdir, minMChg, maxMChg, minFChg, maxFChg, \n",
    "                   frags, bindir, nfit, fragdir, htmldir, pdbfile, webPort):\n",
    "    "
   ]
  },
  {
   "cell_type": "markdown",
   "metadata": {},
   "source": [
    "## Step 6: Refine molecular models\n",
    "\n",
    "In this step the molecular models produced by combining fragment MDCMs are refined in a final simplex opimization"
   ]
  },
  {
   "cell_type": "code",
   "execution_count": null,
   "metadata": {},
   "outputs": [],
   "source": [
    "refine_models(workdir,  maxMChg , minMChg, combdir, longQ,\n",
    "                  bindir, mtpfile, potCube, densCube, maxAChg, webPort, pdbfile)"
   ]
  },
  {
   "cell_type": "markdown",
   "metadata": {},
   "source": [
    "## Step 6: Analysis\n",
    "\n",
    "In this step individual models can be examined in detail in terms of their performance compared to different multipole models with visualization of the ESP surface."
   ]
  },
  {
   "cell_type": "code",
   "execution_count": null,
   "metadata": {},
   "outputs": [],
   "source": [
    "nchg = 30\n",
    "#\n",
    "analyse_model(workdir, refinedir, nchg, mtpdir, bindir, potCube, densCube, qtot, htmldir, webPort, isoSurf=0.001) "
   ]
  },
  {
   "cell_type": "markdown",
   "metadata": {},
   "source": [
    "## Step 7: Export to CHARMM\n",
    "\n",
    "In this step the models can be exported in a format to be read by CHARMM's \"DCM\" module, defining charge positions relative to local axes to allow molecular dynamics simulation or energy calculations after conformational change."
   ]
  },
  {
   "cell_type": "code",
   "execution_count": null,
   "metadata": {},
   "outputs": [],
   "source": [
    "\n",
    "# cd /home/unibas/boittier/pydcm-1.2/test2/\n",
    "#python ~/get_frames.py ref/mol.pdb LIG\n",
    "# cd /home/unibas/boittier/pydcm-1.2/test2/7-to-charmm\n",
    "#../../bin/comb-xyz-to-dcm.pl ../5-refine/30-charges/30_charges_refined.xyz ../ref/N.p.cube ../../frame.txt butone-cf3-eq.dcm \n"
   ]
  },
  {
   "cell_type": "code",
   "execution_count": null,
   "metadata": {},
   "outputs": [],
   "source": []
  },
  {
   "cell_type": "code",
   "execution_count": null,
   "metadata": {},
   "outputs": [],
   "source": []
  },
  {
   "cell_type": "code",
   "execution_count": null,
   "metadata": {},
   "outputs": [],
   "source": []
  },
  {
   "cell_type": "code",
   "execution_count": null,
   "metadata": {},
   "outputs": [],
   "source": []
  },
  {
   "cell_type": "code",
   "execution_count": null,
   "metadata": {},
   "outputs": [],
   "source": []
  }
 ],
 "metadata": {
  "kernelspec": {
   "display_name": "my-rdkit-env",
   "language": "python",
   "name": "my-rdkit-env"
  },
  "language_info": {
   "codemirror_mode": {
    "name": "ipython",
    "version": 3
   },
   "file_extension": ".py",
   "mimetype": "text/x-python",
   "name": "python",
   "nbconvert_exporter": "python",
   "pygments_lexer": "ipython3",
   "version": "3.6.10"
  }
 },
 "nbformat": 4,
 "nbformat_minor": 4
}
