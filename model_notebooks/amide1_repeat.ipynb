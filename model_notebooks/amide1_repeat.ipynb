{
 "cells": [
  {
   "cell_type": "code",
   "execution_count": 10,
   "metadata": {},
   "outputs": [],
   "source": [
    "import sys\n",
    "ars_path = \"/home/boittier/pydcm/\"\n",
    "sys.path.insert(1, ars_path)\n",
    "from _pydcm import *\n"
   ]
  },
  {
   "cell_type": "code",
   "execution_count": 11,
   "metadata": {},
   "outputs": [],
   "source": [
    "# The Gaussian-format cube file containing electron density:\n",
    "refDensCube=\"/home/boittier/amide_dih/scan/1_1_new-0.chk.d.cube\"\n",
    "# The Gaussian-format cube file containing electrostatic potential energy:\n",
    "refPotCube=\"/home/boittier/amide_dih/scan/1_1_new-0.chk.p.cube\"\n",
    "# The root folder for your fitting project\n",
    "projDir=\"/home/boittier/pydcm/models/amide1_repeat\"\n",
    "# The bin directory containing the MDCM scripts and programs\n",
    "refBinDir=\"/home/boittier/pydcm/bin\"\n",
    "# The total charge of the molecule to be fitted (a.u.)\n",
    "qtot=0.0\n",
    "# The port to use for the local web browser (to view molecules in NGL). Make sure nobody else is using it already!\n",
    "webPort='8883'\n",
    "# The name of a Slurm partition allowing jobs to run for up to 2 hours with 4 cores\n",
    "shortQ='vshort'\n",
    "longQ='infinite'\n",
    "# The desired isodensity surface to use for viewing potential energy surfaces (a.u)\n",
    "isoSurf=0.001\n",
    "\n",
    "\n",
    "# Number of refinement iterations for each fit. More is better, but each fit will take longer\n",
    "ntry=4\n",
    "# Maximum number of charges to fit per atom (minimum is fixed at 1)\n",
    "maxAChg=4\n",
    "\n",
    "natm=12\n",
    "nfrag = 4\n",
    "\n",
    "minMChg=10\n",
    "maxMChg=40\n",
    "\n",
    "# Define fragments using atom numbering from NGL window at top of notebook\n",
    "frags= [[1, 3, 11, 5], [2, 9], [8, 4], [10, 6, 12, 7]] \n",
    "# Minimum number of charges to fit for each fragment (can average fewer than 1 per atom)\n",
    "minFChg=[3,2,2,3]\n",
    "# Maximum number of charges to fit for each fragment (upper limit per atom fixed by maxAChg)\n",
    "maxFChg=[12,8,8,12]\n",
    "\n",
    "workdir = projDir + '/'\n",
    "refdir = workdir + 'ref/'\n",
    "htmldir = workdir + 'html/'\n",
    "bindir = refBinDir + '/'\n",
    "pdbfile = refdir + 'mol.pdb'\n",
    "densCube = refdir + os.path.basename(refDensCube)\n",
    "potCube = refdir + os.path.basename(refPotCube)"
   ]
  },
  {
   "cell_type": "code",
   "execution_count": 12,
   "metadata": {},
   "outputs": [],
   "source": [
    "pydcm = Pydcm(projDir, refBinDir, refDensCube, refPotCube, webPort, frags, minFChg, maxFChg, maxAChg, minMChg, maxMChg, shortQ, longQ)"
   ]
  },
  {
   "cell_type": "code",
   "execution_count": 13,
   "metadata": {},
   "outputs": [
    {
     "name": "stdout",
     "output_type": "stream",
     "text": [
      "Changed to working directory /home/boittier/pydcm/models/amide1_repeat/\n",
      "12 atoms in molecule\n",
      "writing PDB file /home/boittier/pydcm/models/amide1_repeat/ref/mol.pdb\n",
      "\n",
      "Running jobs:python /home/boittier/pydcm/bin/simple-cors-http-server.py 8883\n",
      "0 : run_http()\n",
      "\n",
      "Web server running in directory /home/boittier/pydcm/models/amide1_repeat, URLs are relative to this path\n",
      "\n",
      "If you change the project directory, you need to restart Jupyter-Lab to restart this server and create a new root for URLs\n"
     ]
    }
   ],
   "source": [
    "pydcm.make_ref_directory()\n",
    "pydcm.start_server()"
   ]
  },
  {
   "cell_type": "code",
   "execution_count": 14,
   "metadata": {},
   "outputs": [
    {
     "name": "stdout",
     "output_type": "stream",
     "text": [
      "ESP range: -0.0744605 to 0.0744605 a.u.\n",
      "8883 /home/boittier/pydcm/models/amide1_repeat/html/ /home/boittier/pydcm/models/amide1_repeat/ref/mol.pdb\n",
      "http://localhost:8883/html/refESP.html\n"
     ]
    },
    {
     "data": {
      "text/html": [
       "\n",
       "        <iframe\n",
       "            width=\"1120\"\n",
       "            height=\"750\"\n",
       "            src=\"http://localhost:8883/html/refESP.html\"\n",
       "            frameborder=\"0\"\n",
       "            allowfullscreen\n",
       "        ></iframe>\n",
       "        "
      ],
      "text/plain": [
       "<IPython.lib.display.IFrame at 0x2afd23c495f8>"
      ]
     },
     "execution_count": 14,
     "metadata": {},
     "output_type": "execute_result"
    }
   ],
   "source": [
    "pydcm.show_ref_models()"
   ]
  },
  {
   "cell_type": "code",
   "execution_count": 15,
   "metadata": {},
   "outputs": [
    {
     "name": "stdout",
     "output_type": "stream",
     "text": [
      "/home/boittier/pydcm/bin/mtpfit.py\n"
     ]
    },
    {
     "data": {
      "text/html": [
       "\n",
       "        <iframe\n",
       "            width=\"1120\"\n",
       "            height=\"1550\"\n",
       "            src=\"http://localhost:8883/html/mtpFit.html\"\n",
       "            frameborder=\"0\"\n",
       "            allowfullscreen\n",
       "        ></iframe>\n",
       "        "
      ],
      "text/plain": [
       "<IPython.lib.display.IFrame at 0x2afd23c7e390>"
      ]
     },
     "execution_count": 15,
     "metadata": {},
     "output_type": "execute_result"
    }
   ],
   "source": [
    "pydcm.display_mtpfit_comparison()"
   ]
  },
  {
   "cell_type": "code",
   "execution_count": 16,
   "metadata": {},
   "outputs": [
    {
     "name": "stdout",
     "output_type": "stream",
     "text": [
      "\n",
      "## 1Charges Per Atom:\n",
      "Atom 1 final RMSE: 1.219503303 kcal/mol\n",
      "Atom 2 final RMSE: 1.830238629 kcal/mol\n",
      "Atom 3 final RMSE: 2.624065554 kcal/mol\n",
      "Atom 4 final RMSE: 1.696056181 kcal/mol\n",
      "Atom 5 final RMSE: 1.228137382 kcal/mol\n",
      "Atom 6 final RMSE: 2.361341586 kcal/mol\n",
      "Atom 7 final RMSE: 2.24124674 kcal/mol\n",
      "Atom 8 final RMSE: 1.96492017 kcal/mol\n",
      "Atom 9 final RMSE: 3.333850383 kcal/mol\n",
      "Atom 10 final RMSE: 1.045708679 kcal/mol\n",
      "Atom 11 final RMSE: 2.868301393 kcal/mol\n",
      "Atom 12 final RMSE: 1.872154484 kcal/mol\n",
      "\n",
      "## 2Charges Per Atom:\n",
      "Atom 1 final RMSE: 0.2273227499 kcal/mol\n",
      "Atom 2 final RMSE: 0.5728969879 kcal/mol\n",
      "Atom 3 final RMSE: 1.693168607 kcal/mol\n",
      "Atom 4 final RMSE: 0.2221944173 kcal/mol\n",
      "Atom 5 final RMSE: 0.6687557772 kcal/mol\n",
      "Atom 6 final RMSE: 0.3870685561 kcal/mol\n",
      "Atom 7 final RMSE: 0.3039357227 kcal/mol\n",
      "Atom 8 final RMSE: 0.6397510218 kcal/mol\n",
      "Atom 9 final RMSE: 0.2335507575 kcal/mol\n",
      "Atom 10 final RMSE: 0.4617633892 kcal/mol\n",
      "Atom 11 final RMSE: 0.2312598998 kcal/mol\n",
      "Atom 12 final RMSE: 0.4471743417 kcal/mol\n",
      "\n",
      "## 3Charges Per Atom:\n",
      "Atom 1 final RMSE: 0.1669868258 kcal/mol\n",
      "Atom 2 final RMSE: 0.09021498728 kcal/mol\n",
      "Atom 3 final RMSE: 0.6832533257 kcal/mol\n",
      "Atom 4 final RMSE: 0.1105065833 kcal/mol\n",
      "Atom 5 final RMSE: 0.2098708304 kcal/mol\n",
      "Atom 6 final RMSE: 0.1797126293 kcal/mol\n",
      "Atom 7 final RMSE: 0.04934740422 kcal/mol\n",
      "Atom 8 final RMSE: 0.1976165875 kcal/mol\n",
      "Atom 9 final RMSE: 0.1381673557 kcal/mol\n",
      "Atom 10 final RMSE: 0.2553751474 kcal/mol\n",
      "Atom 11 final RMSE: 0.1479323684 kcal/mol\n",
      "Atom 12 final RMSE: 0.1553316853 kcal/mol\n",
      "\n",
      "## 4Charges Per Atom:\n",
      "Atom 1 final RMSE: 0.1072076883 kcal/mol\n",
      "Atom 2 final RMSE: 0.02456258701 kcal/mol\n",
      "Atom 3 final RMSE: 0.1552046271 kcal/mol\n",
      "Atom 4 final RMSE: 0.03899725237 kcal/mol\n",
      "Atom 5 final RMSE: 0.1480899203 kcal/mol\n",
      "Atom 6 final RMSE: 0.09055216725 kcal/mol\n",
      "Atom 7 final RMSE: 0.03344997856 kcal/mol\n",
      "Atom 8 final RMSE: 0.09833333576 kcal/mol\n",
      "Atom 9 final RMSE: 0.08918436273 kcal/mol\n",
      "Atom 10 final RMSE: 0.1046597619 kcal/mol\n",
      "Atom 11 final RMSE: 0.1068890507 kcal/mol\n",
      "Atom 12 final RMSE: 0.1211967117 kcal/mol\n"
     ]
    },
    {
     "data": {
      "image/png": "[encoded data removed]",
      "text/plain": [
       "<Figure size 1200x800 with 2 Axes>"
      ]
     },
     "metadata": {
      "needs_background": "light"
     },
     "output_type": "display_data"
    }
   ],
   "source": [
    "pydcm.do_atom_fit(maxAChg, ntry, nfrag)"
   ]
  },
  {
   "cell_type": "code",
   "execution_count": 17,
   "metadata": {},
   "outputs": [
    {
     "name": "stdout",
     "output_type": "stream",
     "text": [
      "Frag 1 fit 1, 6 charges: Job 3592818 is still running\n",
      "Frag 1 fit 1, 7 charges: Job 3592819 is still running\n",
      "Frag 1 fit 1, 8 charges: Job 3592820 is still running\n",
      "Frag 1 fit 1, 9 charges: Job 3592821 is still running\n",
      "Frag 1 fit 1, 10 charges: Job 3592822 is still running\n",
      "Frag 1 fit 1, 11 charges: Job 3592823 is still running\n",
      "Frag 1 fit 1, 12 charges: Job 3592824 is still running\n",
      "Frag 1 fit 1, 13 charges: Job 3592825 is still running\n",
      "Frag 2 fit 1, 4 charges: Job 3592827 is still running\n",
      "Frag 2 fit 1, 5 charges: Job 3592828 is still running\n",
      "Frag 2 fit 1, 6 charges: Job 3592829 is still running\n",
      "Frag 2 fit 1, 7 charges: Job 3592830 is still running\n",
      "Frag 2 fit 1, 8 charges: Job 3592831 is still running\n",
      "Frag 2 fit 1, 9 charges: Job 3592832 is still running\n",
      "Frag 3 fit 1, 4 charges: Job 3592834 is still running\n",
      "Frag 3 fit 1, 5 charges: Job 3592835 is still running\n",
      "Frag 3 fit 1, 6 charges: Job 3592836 is still running\n",
      "Frag 3 fit 1, 7 charges: Job 3592837 is still running\n",
      "Frag 3 fit 1, 8 charges: Job 3592838 is still running\n",
      "Frag 3 fit 1, 9 charges: Job 3592839 is still running\n",
      "Frag 4 fit 1, 4 charges: Job 3592840 is still running\n",
      "Frag 4 fit 1, 5 charges: Job 3592841 is still running\n",
      "Frag 4 fit 1, 6 charges: Job 3592842 is still running\n",
      "Frag 4 fit 1, 7 charges: Job 3592843 is still running\n",
      "Frag 4 fit 1, 8 charges: Job 3592844 is still running\n",
      "Frag 4 fit 1, 9 charges: Job 3592845 is still running\n",
      "Frag 4 fit 1, 10 charges: Job 3592846 is still running\n",
      "Frag 4 fit 1, 11 charges: Job 3592847 is still running\n",
      "Frag 4 fit 1, 12 charges: Job 3592848 is still running\n",
      "Frag 4 fit 1, 13 charges: Job 3592849 is still running\n"
     ]
    },
    {
     "data": {
      "text/plain": [
       "False"
      ]
     },
     "execution_count": 17,
     "metadata": {},
     "output_type": "execute_result"
    }
   ],
   "source": [
    "# Number of refinement iterations for each fit. More is better, but each fit will take longer\n",
    "ntry=1\n",
    "# Number of separate fits to perform (restarting a fit can lead to a better outcome). Cost scales linearly\n",
    "nfit=1\n",
    "\n",
    "pydcm.fit_fragments(ntry, nfit)"
   ]
  },
  {
   "cell_type": "code",
   "execution_count": 18,
   "metadata": {},
   "outputs": [
    {
     "name": "stdout",
     "output_type": "stream",
     "text": [
      "10 CHARGES:\n"
     ]
    },
    {
     "ename": "TypeError",
     "evalue": "'float' object is not subscriptable",
     "output_type": "error",
     "traceback": [
      "\u001b[0;31m---------------------------------------------------------------------------\u001b[0m",
      "\u001b[0;31mTypeError\u001b[0m                                 Traceback (most recent call last)",
      "\u001b[0;32m<ipython-input-18-f5c8d9712a28>\u001b[0m in \u001b[0;36m<module>\u001b[0;34m\u001b[0m\n\u001b[0;32m----> 1\u001b[0;31m \u001b[0mpydcm\u001b[0m\u001b[0;34m.\u001b[0m\u001b[0mcombine_fragements\u001b[0m\u001b[0;34m(\u001b[0m\u001b[0mntry\u001b[0m\u001b[0;34m,\u001b[0m \u001b[0mnfit\u001b[0m\u001b[0;34m)\u001b[0m\u001b[0;34m\u001b[0m\u001b[0;34m\u001b[0m\u001b[0m\n\u001b[0m",
      "\u001b[0;32m~/pydcm/_pydcm.py\u001b[0m in \u001b[0;36mcombine_fragements\u001b[0;34m(self, ntry, nfit)\u001b[0m\n\u001b[1;32m    912\u001b[0m                     \u001b[0mfragFile\u001b[0m\u001b[0;34m.\u001b[0m\u001b[0mappend\u001b[0m\u001b[0;34m(\u001b[0m\u001b[0;34m''\u001b[0m\u001b[0;34m)\u001b[0m\u001b[0;34m\u001b[0m\u001b[0;34m\u001b[0m\u001b[0m\n\u001b[1;32m    913\u001b[0m                     \u001b[0;32mfor\u001b[0m \u001b[0mk\u001b[0m \u001b[0;32min\u001b[0m \u001b[0mrange\u001b[0m\u001b[0;34m(\u001b[0m\u001b[0;36m0\u001b[0m\u001b[0;34m,\u001b[0m \u001b[0mnfit\u001b[0m\u001b[0;34m)\u001b[0m\u001b[0;34m:\u001b[0m\u001b[0;34m\u001b[0m\u001b[0;34m\u001b[0m\u001b[0m\n\u001b[0;32m--> 914\u001b[0;31m                         \u001b[0mtrmse\u001b[0m \u001b[0;34m=\u001b[0m \u001b[0mself\u001b[0m\u001b[0;34m.\u001b[0m\u001b[0mrmse\u001b[0m\u001b[0;34m[\u001b[0m\u001b[0mj\u001b[0m\u001b[0;34m]\u001b[0m\u001b[0;34m[\u001b[0m\u001b[0mk\u001b[0m\u001b[0;34m]\u001b[0m\u001b[0;34m[\u001b[0m\u001b[0mint\u001b[0m\u001b[0;34m(\u001b[0m\u001b[0ma\u001b[0m\u001b[0;34m[\u001b[0m\u001b[0mj\u001b[0m\u001b[0;34m]\u001b[0m\u001b[0;34m)\u001b[0m \u001b[0;34m-\u001b[0m \u001b[0mself\u001b[0m\u001b[0;34m.\u001b[0m\u001b[0mminFChg\u001b[0m\u001b[0;34m[\u001b[0m\u001b[0mj\u001b[0m\u001b[0;34m]\u001b[0m\u001b[0;34m]\u001b[0m\u001b[0;34m\u001b[0m\u001b[0;34m\u001b[0m\u001b[0m\n\u001b[0m\u001b[1;32m    915\u001b[0m                         \u001b[0;32mif\u001b[0m \u001b[0mtrmse\u001b[0m \u001b[0;34m!=\u001b[0m \u001b[0;36m0\u001b[0m \u001b[0;32mand\u001b[0m \u001b[0mtrmse\u001b[0m \u001b[0;34m<\u001b[0m \u001b[0mbestFRMSE\u001b[0m\u001b[0;34m[\u001b[0m\u001b[0mj\u001b[0m\u001b[0;34m]\u001b[0m\u001b[0;34m:\u001b[0m\u001b[0;34m\u001b[0m\u001b[0;34m\u001b[0m\u001b[0m\n\u001b[1;32m    916\u001b[0m                             \u001b[0mbestFRMSE\u001b[0m\u001b[0;34m[\u001b[0m\u001b[0mj\u001b[0m\u001b[0;34m]\u001b[0m \u001b[0;34m=\u001b[0m \u001b[0mtrmse\u001b[0m\u001b[0;34m\u001b[0m\u001b[0;34m\u001b[0m\u001b[0m\n",
      "\u001b[0;31mTypeError\u001b[0m: 'float' object is not subscriptable"
     ]
    }
   ],
   "source": [
    "pydcm.combine_fragements(ntry, nfit)"
   ]
  },
  {
   "cell_type": "code",
   "execution_count": 10,
   "metadata": {},
   "outputs": [
    {
     "name": "stdout",
     "output_type": "stream",
     "text": [
      "\n",
      "Summary of results:\n",
      "10 charges, RMSE: 1.045341076 kcal/mol\n",
      "11 charges, RMSE: 1.069072232 kcal/mol\n",
      "12 charges, RMSE: 1.014872451 kcal/mol\n",
      "13 charges, RMSE: 0.9753178193 kcal/mol\n",
      "14 charges, RMSE: 0.8574946602 kcal/mol\n",
      "15 charges, RMSE: 0.7877106442 kcal/mol\n",
      "16 charges, RMSE: 0.6631946022 kcal/mol\n",
      "17 charges, RMSE: 0.6690097627 kcal/mol\n",
      "18 charges, RMSE: 0.6313166616 kcal/mol\n",
      "19 charges, RMSE: 0.5688686855 kcal/mol\n",
      "20 charges, RMSE: 0.5360864516 kcal/mol\n",
      "21 charges, RMSE: 0.5309868844 kcal/mol\n",
      "22 charges, RMSE: 0.5193661433 kcal/mol\n",
      "23 charges, RMSE: 0.5136091996 kcal/mol\n",
      "24 charges, RMSE: 0.5100842174 kcal/mol\n",
      "25 charges, RMSE: 0.5072128325 kcal/mol\n",
      "26 charges, RMSE: 0.5145492169 kcal/mol\n",
      "27 charges, RMSE: 0.5109058541 kcal/mol\n",
      "28 charges, RMSE: 0.5088203305 kcal/mol\n",
      "29 charges, RMSE: 0.5060637883 kcal/mol\n",
      "30 charges, RMSE: 0.5089921728 kcal/mol\n",
      "31 charges, RMSE: 0.5073012353 kcal/mol\n",
      "32 charges, RMSE: 0.507437606 kcal/mol\n",
      "33 charges, RMSE: 0.5032474157 kcal/mol\n",
      "34 charges, RMSE: 0.5037072859 kcal/mol\n",
      "35 charges, RMSE: 0.5039431379 kcal/mol\n",
      "36 charges, RMSE: 0.5005608993 kcal/mol\n",
      "37 charges, RMSE: 0.5006388591 kcal/mol\n",
      "38 charges, RMSE: 0.5006786048 kcal/mol\n",
      "39 charges, RMSE: 0.4988228125 kcal/mol\n",
      "40 charges, RMSE: 0.4971134229 kcal/mol\n"
     ]
    },
    {
     "data": {
      "image/png": "[encoded data removed]",
      "text/plain": [
       "<Figure size 800x600 with 2 Axes>"
      ]
     },
     "metadata": {},
     "output_type": "display_data"
    },
    {
     "data": {
      "image/png": "[encoded data removed]",
      "text/plain": [
       "<Figure size 800x600 with 2 Axes>"
      ]
     },
     "metadata": {},
     "output_type": "display_data"
    },
    {
     "data": {
      "image/png": "[encoded data removed]",
      "text/plain": [
       "<Figure size 800x600 with 2 Axes>"
      ]
     },
     "metadata": {
      "needs_background": "light"
     },
     "output_type": "display_data"
    },
    {
     "data": {
      "image/png": "[encoded data removed]",
      "text/plain": [
       "<Figure size 800x600 with 2 Axes>"
      ]
     },
     "metadata": {
      "needs_background": "light"
     },
     "output_type": "display_data"
    }
   ],
   "source": [
    "pydcm.refine_models()"
   ]
  },
  {
   "cell_type": "code",
   "execution_count": 11,
   "metadata": {
    "slideshow": {
     "slide_type": "-"
    }
   },
   "outputs": [
    {
     "name": "stdout",
     "output_type": "stream",
     "text": [
      "Ditriantapole RMSE: 3.799888416E-01\n",
      "0.04845684579\n"
     ]
    },
    {
     "ename": "NameError",
     "evalue": "name 'qtot' is not defined",
     "output_type": "error",
     "traceback": [
      "\u001b[0;31m---------------------------------------------------------------------------\u001b[0m",
      "\u001b[0;31mNameError\u001b[0m                                 Traceback (most recent call last)",
      "\u001b[0;32m<ipython-input-11-3dbc249b8741>\u001b[0m in \u001b[0;36m<module>\u001b[0;34m\u001b[0m\n\u001b[0;32m----> 1\u001b[0;31m \u001b[0mpydcm\u001b[0m\u001b[0;34m.\u001b[0m\u001b[0manalyse_model\u001b[0m\u001b[0;34m(\u001b[0m\u001b[0;36m20\u001b[0m\u001b[0;34m)\u001b[0m\u001b[0;34m\u001b[0m\u001b[0;34m\u001b[0m\u001b[0m\n\u001b[0m",
      "\u001b[0;32m~/pydcm/_pydcm.py\u001b[0m in \u001b[0;36manalyse_model\u001b[0;34m(self, nchg, isoSurf)\u001b[0m\n\u001b[1;32m   1345\u001b[0m         \u001b[0mchgfile\u001b[0m \u001b[0;34m=\u001b[0m \u001b[0mchgdir\u001b[0m \u001b[0;34m+\u001b[0m \u001b[0;34m'fitted-mtpl.dat'\u001b[0m\u001b[0;34m\u001b[0m\u001b[0;34m\u001b[0m\u001b[0m\n\u001b[1;32m   1346\u001b[0m         \u001b[0;32mif\u001b[0m \u001b[0;32mnot\u001b[0m \u001b[0mos\u001b[0m\u001b[0;34m.\u001b[0m\u001b[0mpath\u001b[0m\u001b[0;34m.\u001b[0m\u001b[0misfile\u001b[0m\u001b[0;34m(\u001b[0m\u001b[0mchgfile\u001b[0m\u001b[0;34m)\u001b[0m\u001b[0;34m:\u001b[0m\u001b[0;34m\u001b[0m\u001b[0;34m\u001b[0m\u001b[0m\n\u001b[0;32m-> 1347\u001b[0;31m             subprocess.run(['python', script, '-pot', self.potCube, '-dens', self.densCube, '-lmax', '0', '-qtot', str(qtot)],\n\u001b[0m\u001b[1;32m   1348\u001b[0m                            stdout=PIPE, stderr=PIPE)\n\u001b[1;32m   1349\u001b[0m \u001b[0;34m\u001b[0m\u001b[0m\n",
      "\u001b[0;31mNameError\u001b[0m: name 'qtot' is not defined"
     ]
    }
   ],
   "source": [
    "pydcm.analyse_model(20)"
   ]
  },
  {
   "cell_type": "code",
   "execution_count": null,
   "metadata": {},
   "outputs": [],
   "source": [
    "pydcm.refinedir"
   ]
  },
  {
   "cell_type": "code",
   "execution_count": null,
   "metadata": {},
   "outputs": [],
   "source": []
  },
  {
   "cell_type": "code",
   "execution_count": null,
   "metadata": {},
   "outputs": [],
   "source": []
  },
  {
   "cell_type": "code",
   "execution_count": null,
   "metadata": {},
   "outputs": [],
   "source": []
  },
  {
   "cell_type": "code",
   "execution_count": null,
   "metadata": {},
   "outputs": [],
   "source": []
  },
  {
   "cell_type": "code",
   "execution_count": null,
   "metadata": {},
   "outputs": [],
   "source": []
  },
  {
   "cell_type": "code",
   "execution_count": null,
   "metadata": {},
   "outputs": [],
   "source": []
  },
  {
   "cell_type": "code",
   "execution_count": null,
   "metadata": {},
   "outputs": [],
   "source": []
  },
  {
   "cell_type": "code",
   "execution_count": null,
   "metadata": {},
   "outputs": [],
   "source": []
  },
  {
   "cell_type": "code",
   "execution_count": null,
   "metadata": {},
   "outputs": [],
   "source": []
  },
  {
   "cell_type": "code",
   "execution_count": null,
   "metadata": {},
   "outputs": [],
   "source": []
  }
 ],
 "metadata": {
  "kernelspec": {
   "display_name": "my-rdkit-env",
   "language": "python",
   "name": "my-rdkit-env"
  },
  "language_info": {
   "codemirror_mode": {
    "name": "ipython",
    "version": 3
   },
   "file_extension": ".py",
   "mimetype": "text/x-python",
   "name": "python",
   "nbconvert_exporter": "python",
   "pygments_lexer": "ipython3",
   "version": "3.6.10"
  }
 },
 "nbformat": 4,
 "nbformat_minor": 2
}
