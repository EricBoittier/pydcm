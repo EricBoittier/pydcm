{
 "cells": [
  {
   "cell_type": "code",
   "execution_count": 11,
   "metadata": {},
   "outputs": [],
   "source": [
    "import sys\n",
    "ars_path = \"/home/boittier/pydcm/\"\n",
    "sys.path.insert(1, ars_path)\n",
    "from _pydcm import *\n"
   ]
  },
  {
   "cell_type": "code",
   "execution_count": 1,
   "metadata": {},
   "outputs": [],
   "source": [
    "# The Gaussian-format cube file containing electron density:\n",
    "refDensCube=\"/home/boittier/B.pdb/OPT_B3LYP_6-31+G/B.d.cube\"\n",
    "# The Gaussian-format cube file containing electrostatic potential energy:\n",
    "refPotCube=\"/home/boittier/B.pdb/OPT_B3LYP_6-31+G/B.p.cube\"\n",
    "# The root folder for your fitting project\n",
    "projDir=\"/home/boittier/pydcm/models/fbutadiene-0\"\n",
    "# The bin directory containing the MDCM scripts and programs\n",
    "refBinDir=\"/home/boittier/pydcm/bin\"\n",
    "# The total charge of the molecule to be fitted (a.u.)\n",
    "qtot=0.0\n",
    "# The port to use for the local web browser (to view molecules in NGL). Make sure nobody else is using it already!\n",
    "webPort='8880'\n",
    "# The name of a Slurm partition allowing jobs to run for up to 2 hours with 4 cores\n",
    "shortQ='short'\n",
    "longQ='infinite'\n",
    "# The desired isodensity surface to use for viewing potential energy surfaces (a.u)\n",
    "isoSurf=0.001\n",
    "\n",
    "# Number of refinement iterations for each fit. More is better, but each fit will take longer\n",
    "ntry=4\n",
    "# Maximum number of charges to fit per atom (minimum is fixed at 1)\n",
    "maxAChg=4\n",
    "\n",
    "natm=10\n",
    "nfrag = 4\n",
    "\n",
    "minMChg=10\n",
    "maxMChg=40\n",
    "\n",
    "# Define fragments using atom numbering from NGL window at top of notebook\n",
    "frags=[[9, 10, 4],[3,8],[7,2],[5,1,6]]\n",
    "# Minimum number of charges to fit for each fragment (can average fewer than 1 per atom)\n",
    "minFChg=[3,2,2,3]\n",
    "# Maximum number of charges to fit for each fragment (upper limit per atom fixed by maxAChg)\n",
    "maxFChg=[12,8,8,12]\n",
    "\n",
    "workdir = projDir + '/'\n",
    "refdir = workdir + 'ref/'\n",
    "htmldir = workdir + 'html/'\n",
    "bindir = refBinDir + '/'\n",
    "pdbfile = refdir + 'mol.pdb'\n",
    "densCube = refdir + os.path.basename(refDensCube)\n",
    "potCube = refdir + os.path.basename(refPotCube)"
   ]
  },
  {
   "cell_type": "code",
   "execution_count": 2,
   "metadata": {},
   "outputs": [],
   "source": [
    "pydcm = Pydcm(projDir, refBinDir, refDensCube, refPotCube, webPort, frags, minFChg, maxFChg, maxAChg, minMChg, maxMChg, shortQ, longQ)"
   ]
  },
  {
   "cell_type": "code",
   "execution_count": 3,
   "metadata": {},
   "outputs": [],
   "source": [
    "pydcm.make_ref_directory()\n",
    "pydcm.start_server()"
   ]
  },
  {
   "cell_type": "code",
   "execution_count": 4,
   "metadata": {},
   "outputs": [],
   "source": [
    "pydcm.show_ref_models()"
   ]
  },
  {
   "cell_type": "code",
   "execution_count": 5,
   "metadata": {},
   "outputs": [],
   "source": [
    "pydcm.display_mtpfit_comparison()"
   ]
  },
  {
   "cell_type": "code",
   "execution_count": 6,
   "metadata": {},
   "outputs": [],
   "source": [
    "pydcm.do_atom_fit(maxAChg, ntry, nfrag)"
   ]
  },
  {
   "cell_type": "code",
   "execution_count": 7,
   "metadata": {},
   "outputs": [],
   "source": [
    "# Number of refinement iterations for each fit. More is better, but each fit will take longer\n",
    "ntry=4\n",
    "# Number of separate fits to perform (restarting a fit can lead to a better outcome). Cost scales linearly\n",
    "nfit=2\n",
    "\n",
    "pydcm.fit_fragments(ntry, nfit)"
   ]
  },
  {
   "cell_type": "code",
   "execution_count": 9,
   "metadata": {},
   "outputs": [],
   "source": [
    "pydcm.combine_fragements(ntry, nfit)"
   ]
  },
  {
   "cell_type": "code",
   "execution_count": 10,
   "metadata": {},
   "outputs": [],
   "source": [
    "pydcm.refine_models()"
   ]
  },
  {
   "cell_type": "code",
   "execution_count": null,
   "metadata": {
    "slideshow": {
     "slide_type": "-"
    }
   },
   "outputs": [],
   "source": []
  },
  {
   "cell_type": "code",
   "execution_count": null,
   "metadata": {},
   "outputs": [],
   "source": []
  },
  {
   "cell_type": "code",
   "execution_count": null,
   "metadata": {},
   "outputs": [],
   "source": []
  }
 ],
 "metadata": {
  "kernelspec": {
   "display_name": "my-rdkit-env",
   "language": "python",
   "name": "my-rdkit-env"
  },
  "language_info": {
   "codemirror_mode": {
    "name": "ipython",
    "version": 3
   },
   "file_extension": ".py",
   "mimetype": "text/x-python",
   "name": "python",
   "nbconvert_exporter": "python",
   "pygments_lexer": "ipython3",
   "version": "3.6.10"
  }
 },
 "nbformat": 4,
 "nbformat_minor": 2
}
