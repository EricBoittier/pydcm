{
 "cells": [
  {
   "cell_type": "markdown",
   "metadata": {},
   "source": [
    "# PyDCM JupyterLab Notebook to fit MDCM charges from a Gaussian Cube file"
   ]
  },
  {
   "cell_type": "code",
   "execution_count": 1,
   "metadata": {},
   "outputs": [],
   "source": [
    "import sys\n",
    "ars_path = \"/home/boittier/pydcm/\"\n",
    "sys.path.insert(1, ars_path)\n",
    "from pydcm import *"
   ]
  },
  {
   "cell_type": "markdown",
   "metadata": {},
   "source": [
    "# Setup: Define these variables for your system:\n",
    "You should check and set these variables by hand for your system"
   ]
  },
  {
   "cell_type": "code",
   "execution_count": 2,
   "metadata": {},
   "outputs": [],
   "source": [
    "# The Gaussian-format cube file containing electron density:\n",
    "refDensCube=\"/home/boittier/v1/2_2_2_new.com.chk.d.cube\"\n",
    "# The Gaussian-format cube file containing electrostatic potential energy:\n",
    "refPotCube=\"/home/boittier/v1/2_2_2_new.com.chk.p.cube\"\n",
    "# The root folder for your fitting project\n",
    "projDir=\"/home/boittier/pydcm/models/water_2_2_2\"\n",
    "# The bin directory containing the MDCM scripts and programs\n",
    "refBinDir=\"/home/boittier/pydcm/bin\"\n",
    "# The total charge of the molecule to be fitted (a.u.)\n",
    "qtot=0.0\n",
    "# The port to use for the local web browser (to view molecules in NGL). Make sure nobody else is using it already!\n",
    "webPort='8887'\n",
    "# The name of a Slurm partition allowing jobs to run for up to 2 hours with 4 cores\n",
    "shortQ='short'\n",
    "longQ='infinite'\n",
    "# The desired isodensity surface to use for viewing potential energy surfaces (a.u)\n",
    "isoSurf=0.001\n",
    "\n",
    "workdir = projDir + '/'\n",
    "refdir = workdir + 'ref/'\n",
    "htmldir = workdir + 'html/'\n",
    "bindir = refBinDir + '/'\n",
    "pdbfile = refdir + 'mol.pdb'\n",
    "densCube = refdir + os.path.basename(refDensCube)\n",
    "potCube = refdir + os.path.basename(refPotCube)"
   ]
  },
  {
   "cell_type": "markdown",
   "metadata": {},
   "source": [
    "## Step 1: Load files and view reference ESP"
   ]
  },
  {
   "cell_type": "markdown",
   "metadata": {},
   "source": [
    "### Create the desired folder structure and copy files there\n",
    "This will use the \"projDir\" you selected as the root directory for this fitting project, copying reference files there and creating new files and subfolders as necessary."
   ]
  },
  {
   "cell_type": "code",
   "execution_count": 3,
   "metadata": {},
   "outputs": [
    {
     "name": "stdout",
     "output_type": "stream",
     "text": [
      "Changed to working directory /home/boittier/pydcm/models/water_2_2_2/\n",
      "3 atoms in molecule\n",
      "writing PDB file  /home/boittier/pydcm/models/water_2_2_2/ref/mol.pdb\n"
     ]
    }
   ],
   "source": [
    "coords = make_ref_directory(projDir, refBinDir, refDensCube, refPotCube)"
   ]
  },
  {
   "cell_type": "markdown",
   "metadata": {},
   "source": [
    "### Start local web server\n",
    "If it worked then you should see something like \"Serving HTTP on 0.0.0.0 port 8000 (http://0.0.0.0:8000/) ...\" in the console where you started jupyter-lab. The port will be the webPort you set above."
   ]
  },
  {
   "cell_type": "code",
   "execution_count": 4,
   "metadata": {},
   "outputs": [
    {
     "name": "stdout",
     "output_type": "stream",
     "text": [
      "python /home/boittier/pydcm/bin/simple-cors-http-server.py 8887\n",
      "Running jobs:\n",
      "0 : run_http()\n",
      "\n",
      "Web server running in directory /home/boittier/pydcm/models/water_2_2_2, URLs are relative to this path\n",
      "If you change the project directory, you need to restart Jupyter-Lab to restart this server and create a new root for URLs\n"
     ]
    }
   ],
   "source": [
    "start_server(workdir, bindir, webPort)"
   ]
  },
  {
   "cell_type": "markdown",
   "metadata": {},
   "source": [
    "### The next cell loads your selected reference Gaussian cube files and prepares an HTML script to plot the ESP on a molecular isodensity surface"
   ]
  },
  {
   "cell_type": "code",
   "execution_count": 5,
   "metadata": {},
   "outputs": [
    {
     "name": "stdout",
     "output_type": "stream",
     "text": [
      "ESP range: -0.0699328 to 0.0699328 a.u.\n",
      "8887 /home/boittier/pydcm/models/water_2_2_2/html/ /home/boittier/pydcm/models/water_2_2_2/ref/mol.pdb\n",
      "http://localhost:8887/html/refESP.html\n"
     ]
    },
    {
     "data": {
      "text/html": [
       "\n",
       "        <iframe\n",
       "            width=\"1120\"\n",
       "            height=\"750\"\n",
       "            src=\"http://localhost:8887/html/refESP.html\"\n",
       "            frameborder=\"0\"\n",
       "            allowfullscreen\n",
       "        ></iframe>\n",
       "        "
      ],
      "text/plain": [
       "<IPython.lib.display.IFrame at 0x2b8b71d566d8>"
      ]
     },
     "execution_count": 5,
     "metadata": {},
     "output_type": "execute_result"
    }
   ],
   "source": [
    "display, maxESP = show_ref_models(densCube, potCube, htmldir, webPort, pdbfile, isoSurf=0.001)\n",
    "display"
   ]
  },
  {
   "cell_type": "markdown",
   "metadata": {},
   "source": [
    "## Step 2: Fit multipoles to reference ESP\n",
    "\n"
   ]
  },
  {
   "cell_type": "code",
   "execution_count": 6,
   "metadata": {},
   "outputs": [
    {
     "name": "stdout",
     "output_type": "stream",
     "text": [
      "/home/boittier/pydcm/bin/mtpfit.py\n"
     ]
    },
    {
     "data": {
      "text/html": [
       "\n",
       "        <iframe\n",
       "            width=\"1120\"\n",
       "            height=\"1550\"\n",
       "            src=\"http://localhost:8887/html/mtpFit.html\"\n",
       "            frameborder=\"0\"\n",
       "            allowfullscreen\n",
       "        ></iframe>\n",
       "        "
      ],
      "text/plain": [
       "<IPython.lib.display.IFrame at 0x2b8b71d566a0>"
      ]
     },
     "execution_count": 6,
     "metadata": {},
     "output_type": "execute_result"
    }
   ],
   "source": [
    "mtpfile, display = display_mtpfit_comparison(workdir, bindir, htmldir, potCube, densCube, qtot, webPort, maxESP, isoSurf=0.001)\n",
    "display"
   ]
  },
  {
   "cell_type": "markdown",
   "metadata": {},
   "source": [
    "## Step 3: Fit atomic charge models using atomic multipoles from step 2\n",
    "\n",
    "Now the atomic multipoles are available, we can fit atomic charge models to them. This step is fast for 1 or 2 charges, but already takes up to an hour or so for 4 charges if the ESP grid you provided contains a lot of grid points (i.e. is a relatively fine or large grid)"
   ]
  },
  {
   "cell_type": "code",
   "execution_count": 7,
   "metadata": {},
   "outputs": [
    {
     "name": "stdout",
     "output_type": "stream",
     "text": [
      "Atom 1: Job 3481587 is still running\n",
      "\n",
      "## 1Charges Per Atom:\n",
      "Atom 1 final RMSE: 0 kcal/mol\n",
      "Atom 2 final RMSE: 0.6680767686 kcal/mol\n",
      "Atom 3 final RMSE: 0.668052577 kcal/mol\n",
      "\n",
      "## 2Charges Per Atom:\n",
      "Atom 1 final RMSE: 0 kcal/mol\n",
      "Atom 2 final RMSE: 0.3605066453 kcal/mol\n",
      "Atom 3 final RMSE: 0.3604934921 kcal/mol\n",
      "\n",
      "## 3Charges Per Atom:\n",
      "Atom 1 final RMSE: 0 kcal/mol\n",
      "Atom 2 final RMSE: 0.1959470074 kcal/mol\n",
      "Atom 3 final RMSE: 0.1959687665 kcal/mol\n",
      "\n",
      "## 4Charges Per Atom:\n",
      "Atom 1 final RMSE: 0 kcal/mol\n",
      "Atom 2 final RMSE: 0.07966444459 kcal/mol\n",
      "Atom 3 final RMSE: 0.07967554194 kcal/mol\n"
     ]
    },
    {
     "data": {
      "image/png": "[encoded data removed]",
      "text/plain": [
       "<Figure size 1200x800 with 2 Axes>"
      ]
     },
     "metadata": {
      "needs_background": "light"
     },
     "output_type": "display_data"
    }
   ],
   "source": [
    "# Number of refinement iterations for each fit. More is better, but each fit will take longer\n",
    "ntry=4\n",
    "# Maximum number of charges to fit per atom (minimum is fixed at 1)\n",
    "maxAChg=4\n",
    "\n",
    "natm=3\n",
    "nfrag = 3\n",
    "\n",
    "rmse = do_atom_fit(workdir, bindir, natm, maxAChg, shortQ, mtpfile, potCube, densCube, ntry, coords, nfrag)"
   ]
  },
  {
   "cell_type": "markdown",
   "metadata": {},
   "source": [
    "## Step 4: Fit fragment charge models using atomic charge models from step 3\n",
    "\n",
    "The atomic charge models can now be used to generate an initial population for Differential Evolution fitting of fragment charge models. You need to define the fragments using their atom indices at the top of the cell (the NGL window at the top of the notebook shows the molecular structure with the atom numbers). You should also define the maximum and minimum number of charges you'd like to try per fragment. Note that you can use less than one charge on average per fragment atom if you wish, but you can't use more than maxAChg charges per atom (see previous cell for maxAChg)"
   ]
  },
  {
   "cell_type": "code",
   "execution_count": 18,
   "metadata": {
    "tags": []
   },
   "outputs": [
    {
     "name": "stdout",
     "output_type": "stream",
     "text": [
      "Frag 1 fit 1, 10 charges: Job 3480907 is still running\n",
      "Frag 1 fit 1, 11 charges: Job 3480908 is still running\n",
      "Frag 1 fit 1, 12 charges: Job 3480909 is still running\n",
      "Frag 1 fit 1, 13 charges: Job 3480910 is still running\n",
      "Frag 1 fit 2, 9 charges: Job 3480916 is still running\n",
      "Frag 1 fit 2, 10 charges: Job 3480917 is still running\n",
      "Frag 1 fit 2, 11 charges: Job 3480918 is still running\n",
      "Frag 1 fit 2, 12 charges: Job 3480919 is still running\n",
      "Frag 1 fit 2, 13 charges: Job 3480920 is still running\n",
      "Frag 4 fit 1, 10 charges: Job 3480955 is still running\n",
      "Frag 4 fit 1, 11 charges: Job 3480956 is still running\n",
      "Frag 4 fit 1, 12 charges: Job 3480957 is still running\n",
      "Frag 4 fit 1, 13 charges: Job 3480958 is still running\n",
      "Frag 4 fit 2, 12 charges: Job 3480967 is still running\n",
      "Frag 4 fit 2, 13 charges: Job 3480968 is still running\n",
      "\n",
      "Summary of results:\n",
      "Frag 1, Fit 1, 3 charges, RMSE: 0.3941508829 kcal/mol\n",
      "Frag 1, Fit 1, 4 charges, RMSE: 0.3006551332 kcal/mol\n",
      "Frag 1, Fit 1, 5 charges, RMSE: 0.1955202402 kcal/mol\n",
      "Frag 1, Fit 1, 6 charges, RMSE: 0.1616838791 kcal/mol\n",
      "Frag 1, Fit 1, 7 charges, RMSE: 0.1615261492 kcal/mol\n",
      "Frag 1, Fit 1, 8 charges, RMSE: 0.1419924783 kcal/mol\n",
      "Frag 1, Fit 2, 3 charges, RMSE: 0.394150883 kcal/mol\n",
      "Frag 1, Fit 2, 4 charges, RMSE: 0.332229844 kcal/mol\n",
      "Frag 1, Fit 2, 5 charges, RMSE: 0.285259529 kcal/mol\n",
      "Frag 1, Fit 2, 6 charges, RMSE: 0.1852875007 kcal/mol\n",
      "Frag 1, Fit 2, 7 charges, RMSE: 0.1893447721 kcal/mol\n",
      "Frag 2, Fit 1, 2 charges, RMSE: 0.7332989233 kcal/mol\n",
      "Frag 2, Fit 1, 3 charges, RMSE: 0.3133145461 kcal/mol\n",
      "Frag 2, Fit 1, 4 charges, RMSE: 0.2200472899 kcal/mol\n",
      "Frag 2, Fit 1, 5 charges, RMSE: 0.1030120117 kcal/mol\n",
      "Frag 2, Fit 1, 6 charges, RMSE: 0.07015017102 kcal/mol\n",
      "Frag 2, Fit 1, 7 charges, RMSE: 0.05404187165 kcal/mol\n",
      "Frag 2, Fit 1, 8 charges, RMSE: 0.04684085272 kcal/mol\n",
      "Frag 2, Fit 2, 2 charges, RMSE: 0.7332989233 kcal/mol\n",
      "Frag 2, Fit 2, 3 charges, RMSE: 0.3133145471 kcal/mol\n",
      "Frag 2, Fit 2, 4 charges, RMSE: 0.1657241777 kcal/mol\n",
      "Frag 2, Fit 2, 5 charges, RMSE: 0.1078538908 kcal/mol\n",
      "Frag 2, Fit 2, 6 charges, RMSE: 0.07843010881 kcal/mol\n",
      "Frag 2, Fit 2, 7 charges, RMSE: 0.05919784812 kcal/mol\n",
      "Frag 2, Fit 2, 8 charges, RMSE: 0.05048295761 kcal/mol\n",
      "Frag 3, Fit 1, 2 charges, RMSE: 0.7186782803 kcal/mol\n",
      "Frag 3, Fit 1, 3 charges, RMSE: 0.5013715383 kcal/mol\n",
      "Frag 3, Fit 1, 4 charges, RMSE: 0.4658935223 kcal/mol\n",
      "Frag 3, Fit 1, 5 charges, RMSE: 0.2842392509 kcal/mol\n",
      "Frag 3, Fit 1, 6 charges, RMSE: 0.2625222107 kcal/mol\n",
      "Frag 3, Fit 1, 7 charges, RMSE: 0.1766700935 kcal/mol\n",
      "Frag 3, Fit 1, 8 charges, RMSE: 0.08231831769 kcal/mol\n",
      "Frag 3, Fit 2, 2 charges, RMSE: 0.71867828 kcal/mol\n",
      "Frag 3, Fit 2, 3 charges, RMSE: 0.5013715385 kcal/mol\n",
      "Frag 3, Fit 2, 4 charges, RMSE: 0.386141159 kcal/mol\n",
      "Frag 3, Fit 2, 5 charges, RMSE: 0.2593163373 kcal/mol\n",
      "Frag 3, Fit 2, 6 charges, RMSE: 0.3052792669 kcal/mol\n",
      "Frag 3, Fit 2, 7 charges, RMSE: 0.1847048815 kcal/mol\n",
      "Frag 3, Fit 2, 8 charges, RMSE: 0.06774090824 kcal/mol\n",
      "Frag 4, Fit 1, 3 charges, RMSE: 0.2904947167 kcal/mol\n",
      "Frag 4, Fit 1, 4 charges, RMSE: 0.1750202745 kcal/mol\n",
      "Frag 4, Fit 1, 5 charges, RMSE: 0.2634016484 kcal/mol\n",
      "Frag 4, Fit 1, 6 charges, RMSE: 0.1185095506 kcal/mol\n",
      "Frag 4, Fit 1, 7 charges, RMSE: 0.127970432 kcal/mol\n",
      "Frag 4, Fit 1, 8 charges, RMSE: 0.09144700179 kcal/mol\n",
      "Frag 4, Fit 2, 3 charges, RMSE: 0.2904947168 kcal/mol\n",
      "Frag 4, Fit 2, 4 charges, RMSE: 0.1750203521 kcal/mol\n",
      "Frag 4, Fit 2, 5 charges, RMSE: 0.1405719709 kcal/mol\n",
      "Frag 4, Fit 2, 6 charges, RMSE: 0.2670114353 kcal/mol\n",
      "Frag 4, Fit 2, 7 charges, RMSE: 0.09568921571 kcal/mol\n",
      "Frag 4, Fit 2, 8 charges, RMSE: 0.1945223058 kcal/mol\n",
      "Frag 4, Fit 2, 9 charges, RMSE: 0.06432166851 kcal/mol\n",
      "Frag 4, Fit 2, 10 charges, RMSE: 0.05315964794 kcal/mol\n"
     ]
    },
    {
     "ename": "IndexError",
     "evalue": "list index out of range",
     "output_type": "error",
     "traceback": [
      "\u001b[0;31m---------------------------------------------------------------------------\u001b[0m",
      "\u001b[0;31mIndexError\u001b[0m                                Traceback (most recent call last)",
      "\u001b[0;32m<ipython-input-18-6d50a62f29a8>\u001b[0m in \u001b[0;36m<module>\u001b[0;34m\u001b[0m\n\u001b[1;32m     16\u001b[0m fit_fragments(workdir, frags, nfit, natm, maxAChg, atomdir, minFChg, \n\u001b[1;32m     17\u001b[0m                   \u001b[0mmaxFChg\u001b[0m\u001b[0;34m,\u001b[0m \u001b[0mlongQ\u001b[0m\u001b[0;34m,\u001b[0m \u001b[0mbindir\u001b[0m\u001b[0;34m,\u001b[0m \u001b[0mrefdir\u001b[0m\u001b[0;34m,\u001b[0m \u001b[0mmtpfile\u001b[0m\u001b[0;34m,\u001b[0m \u001b[0mpotCube\u001b[0m\u001b[0;34m,\u001b[0m\u001b[0;34m\u001b[0m\u001b[0;34m\u001b[0m\u001b[0m\n\u001b[0;32m---> 18\u001b[0;31m                    densCube, ntry, htmldir, webPort, pdbfile)\n\u001b[0m",
      "\u001b[0;32m~/pydcm/pydcm.py\u001b[0m in \u001b[0;36mfit_fragments\u001b[0;34m(workdir, frags, nfit, natm, maxAChg, atomdir, minFChg, maxFChg, longQ, bindir, refdir, mtpfile, potCube, densCube, ntry, htmldir, webPort, pdbfile)\u001b[0m\n\u001b[1;32m    595\u001b[0m         \u001b[0mlabl\u001b[0m\u001b[0;34m.\u001b[0m\u001b[0mappend\u001b[0m\u001b[0;34m(\u001b[0m\u001b[0mstr\u001b[0m\u001b[0;34m(\u001b[0m\u001b[0mi\u001b[0m\u001b[0;34m)\u001b[0m\u001b[0;34m)\u001b[0m\u001b[0;34m\u001b[0m\u001b[0;34m\u001b[0m\u001b[0m\n\u001b[1;32m    596\u001b[0m         \u001b[0;32mif\u001b[0m \u001b[0;34m(\u001b[0m\u001b[0mmaxFChg\u001b[0m\u001b[0;34m[\u001b[0m\u001b[0mi\u001b[0m \u001b[0;34m-\u001b[0m \u001b[0;36m1\u001b[0m\u001b[0;34m]\u001b[0m \u001b[0;34m+\u001b[0m \u001b[0;36m1\u001b[0m \u001b[0;34m-\u001b[0m \u001b[0mminFChg\u001b[0m\u001b[0;34m[\u001b[0m\u001b[0mi\u001b[0m \u001b[0;34m-\u001b[0m \u001b[0;36m1\u001b[0m\u001b[0;34m]\u001b[0m\u001b[0;34m)\u001b[0m \u001b[0;34m>\u001b[0m \u001b[0mnbin\u001b[0m\u001b[0;34m:\u001b[0m\u001b[0;34m\u001b[0m\u001b[0;34m\u001b[0m\u001b[0m\n\u001b[0;32m--> 597\u001b[0;31m             \u001b[0mnbin\u001b[0m \u001b[0;34m=\u001b[0m \u001b[0mmaxFChg\u001b[0m\u001b[0;34m[\u001b[0m\u001b[0mi\u001b[0m\u001b[0;34m]\u001b[0m \u001b[0;34m+\u001b[0m \u001b[0;36m1\u001b[0m \u001b[0;34m-\u001b[0m \u001b[0mminFChg\u001b[0m\u001b[0;34m[\u001b[0m\u001b[0mi\u001b[0m\u001b[0;34m]\u001b[0m\u001b[0;34m\u001b[0m\u001b[0;34m\u001b[0m\u001b[0m\n\u001b[0m\u001b[1;32m    598\u001b[0m     \u001b[0;32mfor\u001b[0m \u001b[0mj\u001b[0m \u001b[0;32min\u001b[0m \u001b[0mrange\u001b[0m\u001b[0;34m(\u001b[0m\u001b[0;36m0\u001b[0m\u001b[0;34m,\u001b[0m \u001b[0mnfit\u001b[0m\u001b[0;34m)\u001b[0m\u001b[0;34m:\u001b[0m\u001b[0;34m\u001b[0m\u001b[0;34m\u001b[0m\u001b[0m\n\u001b[1;32m    599\u001b[0m         \u001b[0mfig\u001b[0m\u001b[0;34m,\u001b[0m \u001b[0max\u001b[0m \u001b[0;34m=\u001b[0m \u001b[0mplt\u001b[0m\u001b[0;34m.\u001b[0m\u001b[0msubplots\u001b[0m\u001b[0;34m(\u001b[0m\u001b[0mfigsize\u001b[0m\u001b[0;34m=\u001b[0m\u001b[0;34m(\u001b[0m\u001b[0;36m1200\u001b[0m \u001b[0;34m*\u001b[0m \u001b[0mpx\u001b[0m\u001b[0;34m,\u001b[0m \u001b[0;36m800\u001b[0m \u001b[0;34m*\u001b[0m \u001b[0mpx\u001b[0m\u001b[0;34m)\u001b[0m\u001b[0;34m)\u001b[0m\u001b[0;34m\u001b[0m\u001b[0;34m\u001b[0m\u001b[0m\n",
      "\u001b[0;31mIndexError\u001b[0m: list index out of range"
     ]
    }
   ],
   "source": [
    "# START OF USER VARIABLES\n",
    "\n",
    "# Number of refinement iterations for each fit. More is better, but each fit will take longer\n",
    "ntry=4\n",
    "# Number of separate fits to perform (restarting a fit can lead to a better outcome). Cost scales linearly\n",
    "nfit=2\n",
    "# Define fragments using atom numbering from NGL window at top of notebook\n",
    "frags=[[9, 10, 4],[3,8],[7,2],[5,1,6]]\n",
    "# Minimum number of charges to fit for each fragment (can average fewer than 1 per atom)\n",
    "minFChg=[3,2,2,3]\n",
    "# Maximum number of charges to fit for each fragment (upper limit per atom fixed by maxAChg)\n",
    "maxFChg=[12,8,8,12]\n",
    "\n",
    "atomdir=workdir+'2-atomfit/'\n",
    "\n",
    "fit_fragments(workdir, frags, nfit, natm, maxAChg, atomdir, minFChg, \n",
    "                  maxFChg, longQ, bindir, refdir, mtpfile, potCube,\n",
    "                   densCube, ntry, htmldir, webPort, pdbfile)"
   ]
  },
  {
   "cell_type": "markdown",
   "metadata": {},
   "source": [
    "## Step 5: Combine fragments to build a molecular model\n",
    "\n",
    "In this step for each desired total number of charges for the whole molecule, all possible permutations of the fragment models are combined to find the lowest RMSE. For example, if there are 2 fragments and we request 6 charges for the molecule then we can try 5 charges from fragment 1 and 1 charge from fragment 2, or 4 charges from fragment 1 and 2 charges from fragment 2 and so on. Note that the RMSE is just an estimate based on the individual RMSEs of the fragments."
   ]
  },
  {
   "cell_type": "code",
   "execution_count": null,
   "metadata": {},
   "outputs": [],
   "source": [
    "minMChg=18\n",
    "maxMChg=54\n",
    "\n",
    "combine_fragements(workdir, minMChg, maxMChg, minFChg, maxFChg, \n",
    "                   frags, bindir, nfit, fragdir, htmldir, pdbfile, webPort):\n",
    "    "
   ]
  },
  {
   "cell_type": "markdown",
   "metadata": {},
   "source": [
    "## Step 6: Refine molecular models\n",
    "\n",
    "In this step the molecular models produced by combining fragment MDCMs are refined in a final simplex opimization"
   ]
  },
  {
   "cell_type": "code",
   "execution_count": null,
   "metadata": {},
   "outputs": [],
   "source": [
    "refine_models(workdir,  maxMChg , minMChg, combdir, longQ,\n",
    "                  bindir, mtpfile, potCube, densCube, maxAChg, webPort, pdbfile)"
   ]
  },
  {
   "cell_type": "markdown",
   "metadata": {},
   "source": [
    "## Step 6: Analysis\n",
    "\n",
    "In this step individual models can be examined in detail in terms of their performance compared to different multipole models with visualization of the ESP surface."
   ]
  },
  {
   "cell_type": "code",
   "execution_count": null,
   "metadata": {},
   "outputs": [],
   "source": [
    "nchg = 30\n",
    "#\n",
    "analyse_model(workdir, refinedir, nchg, mtpdir, bindir, potCube, densCube, qtot, htmldir, webPort, isoSurf=0.001) "
   ]
  },
  {
   "cell_type": "markdown",
   "metadata": {},
   "source": [
    "## Step 7: Export to CHARMM\n",
    "\n",
    "In this step the models can be exported in a format to be read by CHARMM's \"DCM\" module, defining charge positions relative to local axes to allow molecular dynamics simulation or energy calculations after conformational change."
   ]
  },
  {
   "cell_type": "code",
   "execution_count": null,
   "metadata": {},
   "outputs": [],
   "source": [
    "\n",
    "# cd /home/unibas/boittier/pydcm-1.2/test2/\n",
    "#python ~/get_frames.py ref/mol.pdb LIG\n",
    "# cd /home/unibas/boittier/pydcm-1.2/test2/7-to-charmm\n",
    "#../../bin/comb-xyz-to-dcm.pl ../5-refine/30-charges/30_charges_refined.xyz ../ref/N.p.cube ../../frame.txt butone-cf3-eq.dcm \n"
   ]
  },
  {
   "cell_type": "code",
   "execution_count": null,
   "metadata": {},
   "outputs": [],
   "source": []
  },
  {
   "cell_type": "code",
   "execution_count": null,
   "metadata": {},
   "outputs": [],
   "source": []
  },
  {
   "cell_type": "code",
   "execution_count": null,
   "metadata": {},
   "outputs": [],
   "source": []
  },
  {
   "cell_type": "code",
   "execution_count": null,
   "metadata": {},
   "outputs": [],
   "source": []
  },
  {
   "cell_type": "code",
   "execution_count": null,
   "metadata": {},
   "outputs": [],
   "source": []
  }
 ],
 "metadata": {
  "kernelspec": {
   "display_name": "my-rdkit-env",
   "language": "python",
   "name": "my-rdkit-env"
  },
  "language_info": {
   "codemirror_mode": {
    "name": "ipython",
    "version": 3
   },
   "file_extension": ".py",
   "mimetype": "text/x-python",
   "name": "python",
   "nbconvert_exporter": "python",
   "pygments_lexer": "ipython3",
   "version": "3.6.10"
  }
 },
 "nbformat": 4,
 "nbformat_minor": 4
}
