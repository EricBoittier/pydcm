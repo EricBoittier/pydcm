{
 "cells": [
  {
   "cell_type": "markdown",
   "metadata": {},
   "source": [
    "# PyDCM JupyterLab Notebook to fit MDCM charges from a Gaussian Cube file"
   ]
  },
  {
   "cell_type": "code",
   "execution_count": 11,
   "metadata": {},
   "outputs": [],
   "source": [
    "import sys\n",
    "ars_path = \"/home/unibas/boittier/pydcm-1.2/\"\n",
    "sys.path.insert(1, ars_path)\n",
    "from pydcm import *"
   ]
  },
  {
   "cell_type": "markdown",
   "metadata": {},
   "source": [
    "# Setup: Define these variables for your system:\n",
    "You should check and set these variables by hand for your system"
   ]
  },
  {
   "cell_type": "code",
   "execution_count": 12,
   "metadata": {},
   "outputs": [],
   "source": [
    "# The Gaussian-format cube file containing electron density:\n",
    "refDensCube=\"/home/unibas/boittier/RDKit_G2/B.pdb/OPT_B3LYP_6-31+G/B.d.cube\"\n",
    "# The Gaussian-format cube file containing electrostatic potential energy:\n",
    "refPotCube=\"/home/unibas/boittier/RDKit_G2/B.pdb/OPT_B3LYP_6-31+G/B.p.cube\"\n",
    "# The root folder for your fitting project\n",
    "projDir=\"/home/unibas/boittier/pydcm-1.2/models/fbutadiene-0\"\n",
    "# The bin directory containing the MDCM scripts and programs\n",
    "refBinDir=\"/home/unibas/boittier/pydcm-1.2/bin\"\n",
    "# The total charge of the molecule to be fitted (a.u.)\n",
    "qtot=0.0\n",
    "# The port to use for the local web browser (to view molecules in NGL). Make sure nobody else is using it already!\n",
    "webPort='8885'\n",
    "# The name of a Slurm partition allowing jobs to run for up to 2 hours with 4 cores\n",
    "shortQ='short'\n",
    "longQ='infinite'\n",
    "# The desired isodensity surface to use for viewing potential energy surfaces (a.u)\n",
    "isoSurf=0.001\n",
    "\n",
    "workdir = projDir + '/'\n",
    "refdir = workdir + 'ref/'\n",
    "htmldir = workdir + 'html/'\n",
    "bindir = refBinDir + '/'\n",
    "pdbfile = refdir + 'mol.pdb'\n",
    "densCube = refdir + os.path.basename(refDensCube)\n",
    "potCube = refdir + os.path.basename(refPotCube)"
   ]
  },
  {
   "cell_type": "markdown",
   "metadata": {},
   "source": [
    "## Step 1: Load files and view reference ESP"
   ]
  },
  {
   "cell_type": "markdown",
   "metadata": {},
   "source": [
    "### Create the desired folder structure and copy files there\n",
    "This will use the \"projDir\" you selected as the root directory for this fitting project, copying reference files there and creating new files and subfolders as necessary."
   ]
  },
  {
   "cell_type": "code",
   "execution_count": 13,
   "metadata": {},
   "outputs": [
    {
     "name": "stdout",
     "output_type": "stream",
     "text": [
      "Changed to working directory /home/unibas/boittier/pydcm-1.2/models/fbutadiene-0/\n",
      "10 atoms in molecule\n",
      "writing PDB file  /home/unibas/boittier/pydcm-1.2/models/fbutadiene-0/ref/mol.pdb\n"
     ]
    }
   ],
   "source": [
    "coords = make_ref_directory(projDir, refBinDir, refDensCube, refPotCube)"
   ]
  },
  {
   "cell_type": "markdown",
   "metadata": {},
   "source": [
    "### Start local web server\n",
    "If it worked then you should see something like \"Serving HTTP on 0.0.0.0 port 8000 (http://0.0.0.0:8000/) ...\" in the console where you started jupyter-lab. The port will be the webPort you set above."
   ]
  },
  {
   "cell_type": "code",
   "execution_count": 14,
   "metadata": {},
   "outputs": [
    {
     "name": "stdout",
     "output_type": "stream",
     "text": [
      "Running jobs:\n",
      "0 : run_http()\n",
      "\n",
      "python /home/unibas/boittier/pydcm-1.2/bin/simple-cors-http-server.py 8885\n",
      "Web server running in directory /home/unibas/boittier/pydcm-1.2/models/fbutadiene-0, URLs are relative to this path\n",
      "If you change the project directory, you need to restart Jupyter-Lab to restart this server and create a new root for URLs\n"
     ]
    }
   ],
   "source": [
    "start_server(workdir, bindir, webPort)"
   ]
  },
  {
   "cell_type": "markdown",
   "metadata": {},
   "source": [
    "### The next cell loads your selected reference Gaussian cube files and prepares an HTML script to plot the ESP on a molecular isodensity surface"
   ]
  },
  {
   "cell_type": "code",
   "execution_count": 15,
   "metadata": {},
   "outputs": [
    {
     "name": "stdout",
     "output_type": "stream",
     "text": [
      "ESP range: -0.0333205 to 0.0333205 a.u.\n",
      "8885 /home/unibas/boittier/pydcm-1.2/models/fbutadiene-0/html/ /home/unibas/boittier/pydcm-1.2/models/fbutadiene-0/ref/mol.pdb\n",
      "http://localhost:8885/html/refESP.html\n"
     ]
    },
    {
     "data": {
      "text/html": [
       "\n",
       "        <iframe\n",
       "            width=\"1120\"\n",
       "            height=\"750\"\n",
       "            src=\"http://localhost:8885/html/refESP.html\"\n",
       "            frameborder=\"0\"\n",
       "            allowfullscreen\n",
       "        ></iframe>\n",
       "        "
      ],
      "text/plain": [
       "<IPython.lib.display.IFrame at 0x2adb41c450b8>"
      ]
     },
     "execution_count": 15,
     "metadata": {},
     "output_type": "execute_result"
    }
   ],
   "source": [
    "display, maxESP = show_ref_models(densCube, potCube, htmldir, webPort, pdbfile, isoSurf=0.001)\n",
    "display"
   ]
  },
  {
   "cell_type": "markdown",
   "metadata": {},
   "source": [
    "## Step 2: Fit multipoles to reference ESP\n",
    "\n"
   ]
  },
  {
   "cell_type": "code",
   "execution_count": 16,
   "metadata": {},
   "outputs": [
    {
     "name": "stdout",
     "output_type": "stream",
     "text": [
      "/home/unibas/boittier/pydcm-1.2/bin/mtpfit.py\n"
     ]
    },
    {
     "data": {
      "text/html": [
       "\n",
       "        <iframe\n",
       "            width=\"1120\"\n",
       "            height=\"1550\"\n",
       "            src=\"http://localhost:8885/html/mtpFit.html\"\n",
       "            frameborder=\"0\"\n",
       "            allowfullscreen\n",
       "        ></iframe>\n",
       "        "
      ],
      "text/plain": [
       "<IPython.lib.display.IFrame at 0x2adb41c45208>"
      ]
     },
     "execution_count": 16,
     "metadata": {},
     "output_type": "execute_result"
    }
   ],
   "source": [
    "mtpfile, display = display_mtpfit_comparison(workdir, bindir, htmldir, potCube, densCube, qtot, webPort, maxESP, isoSurf=0.001)\n",
    "display"
   ]
  },
  {
   "cell_type": "markdown",
   "metadata": {},
   "source": [
    "## Step 3: Fit atomic charge models using atomic multipoles from step 2\n",
    "\n",
    "Now the atomic multipoles are available, we can fit atomic charge models to them. This step is fast for 1 or 2 charges, but already takes up to an hour or so for 4 charges if the ESP grid you provided contains a lot of grid points (i.e. is a relatively fine or large grid)"
   ]
  },
  {
   "cell_type": "code",
   "execution_count": 17,
   "metadata": {},
   "outputs": [
    {
     "name": "stdout",
     "output_type": "stream",
     "text": [
      "\n",
      "## 1Charges Per Atom:\n",
      "Atom 1 final RMSE: 1.355010146 kcal/mol\n",
      "Atom 2 final RMSE: 1.177383305 kcal/mol\n",
      "Atom 3 final RMSE: 3.364770865 kcal/mol\n",
      "Atom 4 final RMSE: 2.648605006 kcal/mol\n",
      "Atom 5 final RMSE: 3.368588735 kcal/mol\n",
      "Atom 6 final RMSE: 0.7207260226 kcal/mol\n",
      "Atom 7 final RMSE: 2.045873034 kcal/mol\n",
      "Atom 8 final RMSE: 1.698403502 kcal/mol\n",
      "Atom 9 final RMSE: 1.062961644 kcal/mol\n",
      "Atom 10 final RMSE: 2.358409853 kcal/mol\n",
      "\n",
      "## 2Charges Per Atom:\n",
      "Atom 1 final RMSE: 0.9308721504 kcal/mol\n",
      "Atom 2 final RMSE: 1.02541634 kcal/mol\n",
      "Atom 3 final RMSE: 0.541497648 kcal/mol\n",
      "Atom 4 final RMSE: 0.9886715016 kcal/mol\n",
      "Atom 5 final RMSE: 0.2269288687 kcal/mol\n",
      "Atom 6 final RMSE: 0.5446363614 kcal/mol\n",
      "Atom 7 final RMSE: 0.8298174594 kcal/mol\n",
      "Atom 8 final RMSE: 0.52990566 kcal/mol\n",
      "Atom 9 final RMSE: 0.7175080928 kcal/mol\n",
      "Atom 10 final RMSE: 0.7922691569 kcal/mol\n",
      "\n",
      "## 3Charges Per Atom:\n",
      "Atom 1 final RMSE: 0.2803665709 kcal/mol\n",
      "Atom 2 final RMSE: 0.3501257349 kcal/mol\n",
      "Atom 3 final RMSE: 0.1479215315 kcal/mol\n",
      "Atom 4 final RMSE: 0.2576493171 kcal/mol\n",
      "Atom 5 final RMSE: 0.1072104037 kcal/mol\n",
      "Atom 6 final RMSE: 0.267535165 kcal/mol\n",
      "Atom 7 final RMSE: 0.522585479 kcal/mol\n",
      "Atom 8 final RMSE: 0.2302200215 kcal/mol\n",
      "Atom 9 final RMSE: 0.3625339278 kcal/mol\n",
      "Atom 10 final RMSE: 0.1496599671 kcal/mol\n",
      "\n",
      "## 4Charges Per Atom:\n",
      "Atom 1 final RMSE: 0.1163559632 kcal/mol\n",
      "Atom 2 final RMSE: 0.1206838028 kcal/mol\n",
      "Atom 3 final RMSE: 0.1002871291 kcal/mol\n",
      "Atom 4 final RMSE: 0.1542650179 kcal/mol\n",
      "Atom 5 final RMSE: 0.0635114239 kcal/mol\n",
      "Atom 6 final RMSE: 0.0786937147 kcal/mol\n",
      "Atom 7 final RMSE: 0.08412101034 kcal/mol\n",
      "Atom 8 final RMSE: 0.05843241487 kcal/mol\n",
      "Atom 9 final RMSE: 0.1031254638 kcal/mol\n",
      "Atom 10 final RMSE: 0.06494620879 kcal/mol\n"
     ]
    },
    {
     "data": {
      "image/png": "[encoded data removed]",
      "text/plain": [
       "<Figure size 1200x800 with 2 Axes>"
      ]
     },
     "metadata": {
      "needs_background": "light"
     },
     "output_type": "display_data"
    }
   ],
   "source": [
    "# Number of refinement iterations for each fit. More is better, but each fit will take longer\n",
    "ntry=4\n",
    "# Maximum number of charges to fit per atom (minimum is fixed at 1)\n",
    "maxAChg=4\n",
    "\n",
    "natm=10\n",
    "nfrag = 4\n",
    "\n",
    "rmse = do_atom_fit(workdir, bindir, natm, maxAChg, shortQ, mtpfile, potCube, densCube, ntry, coords, nfrag)"
   ]
  },
  {
   "cell_type": "markdown",
   "metadata": {},
   "source": [
    "## Step 4: Fit fragment charge models using atomic charge models from step 3\n",
    "\n",
    "The atomic charge models can now be used to generate an initial population for Differential Evolution fitting of fragment charge models. You need to define the fragments using their atom indices at the top of the cell (the NGL window at the top of the notebook shows the molecular structure with the atom numbers). You should also define the maximum and minimum number of charges you'd like to try per fragment. Note that you can use less than one charge on average per fragment atom if you wish, but you can't use more than maxAChg charges per atom (see previous cell for maxAChg)"
   ]
  },
  {
   "cell_type": "code",
   "execution_count": 19,
   "metadata": {
    "tags": []
   },
   "outputs": [
    {
     "name": "stdout",
     "output_type": "stream",
     "text": [
      "Frag 1 fit 1, 6 charges: Job 38333083 is still running\n",
      "Frag 1 fit 1, 7 charges: Job 38333084 is still running\n",
      "Frag 1 fit 1, 8 charges: Job 38333085 is still running\n",
      "Frag 1 fit 1, 9 charges: Job 38333086 is still running\n",
      "Frag 1 fit 1, 10 charges: Job 38333087 is still running\n",
      "Frag 1 fit 1, 11 charges: Job 38333088 is still running\n",
      "Frag 1 fit 1, 12 charges: Job 38333089 is still running\n",
      "Frag 1 fit 1, 13 charges: Job 38333090 is still running\n",
      "Frag 1 fit 2, 6 charges: Job 38333093 is still running\n",
      "Frag 1 fit 2, 7 charges: Job 38333094 is still running\n",
      "Frag 1 fit 2, 8 charges: Job 38333095 is still running\n",
      "Frag 1 fit 2, 9 charges: Job 38333096 is still running\n",
      "Frag 1 fit 2, 10 charges: Job 38333097 is still running\n",
      "Frag 1 fit 2, 11 charges: Job 38333098 is still running\n",
      "Frag 1 fit 2, 12 charges: Job 38333099 is still running\n",
      "Frag 1 fit 2, 13 charges: Job 38333100 is still running\n",
      "Frag 2 fit 1, 6 charges: Job 38333104 is still running\n",
      "Frag 2 fit 1, 7 charges: Job 38333105 is still running\n",
      "Frag 2 fit 1, 8 charges: Job 38333106 is still running\n",
      "Frag 2 fit 1, 9 charges: Job 38333107 is still running\n",
      "Frag 2 fit 2, 6 charges: Job 38333111 is still running\n",
      "Frag 2 fit 2, 7 charges: Job 38333112 is still running\n",
      "Frag 2 fit 2, 8 charges: Job 38333113 is still running\n",
      "Frag 2 fit 2, 9 charges: Job 38333114 is still running\n",
      "Frag 3 fit 1, 7 charges: Job 38333119 is still running\n",
      "Frag 3 fit 1, 8 charges: Job 38333120 is still running\n",
      "Frag 3 fit 1, 9 charges: Job 38333121 is still running\n",
      "Frag 3 fit 2, 6 charges: Job 38333125 is still running\n",
      "Frag 3 fit 2, 7 charges: Job 38333126 is still running\n",
      "Frag 3 fit 2, 8 charges: Job 38333127 is still running\n",
      "Frag 3 fit 2, 9 charges: Job 38333128 is still running\n",
      "Frag 4 fit 1, 6 charges: Job 38333131 is still running\n",
      "Frag 4 fit 1, 7 charges: Job 38333132 is still running\n",
      "Frag 4 fit 1, 8 charges: Job 38333133 is still running\n",
      "Frag 4 fit 1, 9 charges: Job 38333134 is still running\n",
      "Frag 4 fit 1, 10 charges: Job 38333135 is still running\n",
      "Frag 4 fit 1, 11 charges: Job 38333136 is still running\n",
      "Frag 4 fit 1, 12 charges: Job 38333137 is still running\n",
      "Frag 4 fit 1, 13 charges: Job 38333138 is still running\n",
      "Frag 4 fit 2, 7 charges: Job 38333142 is still running\n",
      "Frag 4 fit 2, 8 charges: Job 38333143 is still running\n",
      "Frag 4 fit 2, 9 charges: Job 38333144 is still running\n",
      "Frag 4 fit 2, 10 charges: Job 38333145 is still running\n",
      "Frag 4 fit 2, 11 charges: Job 38333146 is still running\n",
      "Frag 4 fit 2, 12 charges: Job 38333147 is still running\n",
      "Frag 4 fit 2, 13 charges: Job 38333148 is still running\n",
      "\n",
      "Summary of results:\n",
      "Frag 1, Fit 1, 3 charges, RMSE: 0.3941508733 kcal/mol\n",
      "Frag 1, Fit 1, 4 charges, RMSE: 0.2742649826 kcal/mol\n",
      "Frag 1, Fit 2, 3 charges, RMSE: 0.3941508734 kcal/mol\n",
      "Frag 1, Fit 2, 4 charges, RMSE: 0.2742651115 kcal/mol\n",
      "Frag 2, Fit 1, 2 charges, RMSE: 0.7332989233 kcal/mol\n",
      "Frag 2, Fit 1, 3 charges, RMSE: 0.31331455 kcal/mol\n",
      "Frag 2, Fit 1, 4 charges, RMSE: 0.220047302 kcal/mol\n",
      "Frag 2, Fit 2, 2 charges, RMSE: 0.7332989232 kcal/mol\n",
      "Frag 2, Fit 2, 3 charges, RMSE: 0.3133145501 kcal/mol\n",
      "Frag 2, Fit 2, 4 charges, RMSE: 0.2200472893 kcal/mol\n",
      "Frag 3, Fit 1, 2 charges, RMSE: 0.7186782802 kcal/mol\n",
      "Frag 3, Fit 1, 3 charges, RMSE: 0.5615483418 kcal/mol\n",
      "Frag 3, Fit 1, 4 charges, RMSE: 0.3861411649 kcal/mol\n",
      "Frag 3, Fit 1, 5 charges, RMSE: 0.3645631186 kcal/mol\n",
      "Frag 3, Fit 2, 2 charges, RMSE: 0.7186782801 kcal/mol\n",
      "Frag 3, Fit 2, 3 charges, RMSE: 0.5013715382 kcal/mol\n",
      "Frag 3, Fit 2, 4 charges, RMSE: 0.3957627626 kcal/mol\n",
      "Frag 4, Fit 1, 3 charges, RMSE: 0.2904947165 kcal/mol\n",
      "Frag 4, Fit 1, 4 charges, RMSE: 0.2323448329 kcal/mol\n",
      "Frag 4, Fit 2, 3 charges, RMSE: 0.2904947165 kcal/mol\n",
      "Frag 4, Fit 2, 4 charges, RMSE: 0.2364644312 kcal/mol\n",
      "Frag 4, Fit 2, 5 charges, RMSE: 0.2089062146 kcal/mol\n"
     ]
    },
    {
     "ename": "IndexError",
     "evalue": "list index out of range",
     "output_type": "error",
     "traceback": [
      "\u001b[0;31m---------------------------------------------------------------------------\u001b[0m",
      "\u001b[0;31mIndexError\u001b[0m                                Traceback (most recent call last)",
      "\u001b[0;32m<ipython-input-19-6d50a62f29a8>\u001b[0m in \u001b[0;36m<module>\u001b[0;34m\u001b[0m\n\u001b[1;32m     16\u001b[0m fit_fragments(workdir, frags, nfit, natm, maxAChg, atomdir, minFChg, \n\u001b[1;32m     17\u001b[0m                   \u001b[0mmaxFChg\u001b[0m\u001b[0;34m,\u001b[0m \u001b[0mlongQ\u001b[0m\u001b[0;34m,\u001b[0m \u001b[0mbindir\u001b[0m\u001b[0;34m,\u001b[0m \u001b[0mrefdir\u001b[0m\u001b[0;34m,\u001b[0m \u001b[0mmtpfile\u001b[0m\u001b[0;34m,\u001b[0m \u001b[0mpotCube\u001b[0m\u001b[0;34m,\u001b[0m\u001b[0;34m\u001b[0m\u001b[0;34m\u001b[0m\u001b[0m\n\u001b[0;32m---> 18\u001b[0;31m                    densCube, ntry, htmldir, webPort, pdbfile)\n\u001b[0m",
      "\u001b[0;32m~/pydcm-1.2/pydcm.py\u001b[0m in \u001b[0;36mfit_fragments\u001b[0;34m(workdir, frags, nfit, natm, maxAChg, atomdir, minFChg, maxFChg, longQ, bindir, refdir, mtpfile, potCube, densCube, ntry, htmldir, webPort, pdbfile)\u001b[0m\n\u001b[1;32m    595\u001b[0m         \u001b[0mlabl\u001b[0m\u001b[0;34m.\u001b[0m\u001b[0mappend\u001b[0m\u001b[0;34m(\u001b[0m\u001b[0mstr\u001b[0m\u001b[0;34m(\u001b[0m\u001b[0mi\u001b[0m\u001b[0;34m)\u001b[0m\u001b[0;34m)\u001b[0m\u001b[0;34m\u001b[0m\u001b[0;34m\u001b[0m\u001b[0m\n\u001b[1;32m    596\u001b[0m         \u001b[0;32mif\u001b[0m \u001b[0;34m(\u001b[0m\u001b[0mmaxFChg\u001b[0m\u001b[0;34m[\u001b[0m\u001b[0mi\u001b[0m \u001b[0;34m-\u001b[0m \u001b[0;36m1\u001b[0m\u001b[0;34m]\u001b[0m \u001b[0;34m+\u001b[0m \u001b[0;36m1\u001b[0m \u001b[0;34m-\u001b[0m \u001b[0mminFChg\u001b[0m\u001b[0;34m[\u001b[0m\u001b[0mi\u001b[0m \u001b[0;34m-\u001b[0m \u001b[0;36m1\u001b[0m\u001b[0;34m]\u001b[0m\u001b[0;34m)\u001b[0m \u001b[0;34m>\u001b[0m \u001b[0mnbin\u001b[0m\u001b[0;34m:\u001b[0m\u001b[0;34m\u001b[0m\u001b[0;34m\u001b[0m\u001b[0m\n\u001b[0;32m--> 597\u001b[0;31m             \u001b[0mnbin\u001b[0m \u001b[0;34m=\u001b[0m \u001b[0mmaxFChg\u001b[0m\u001b[0;34m[\u001b[0m\u001b[0mi\u001b[0m\u001b[0;34m]\u001b[0m \u001b[0;34m+\u001b[0m \u001b[0;36m1\u001b[0m \u001b[0;34m-\u001b[0m \u001b[0mminFChg\u001b[0m\u001b[0;34m[\u001b[0m\u001b[0mi\u001b[0m\u001b[0;34m]\u001b[0m\u001b[0;34m\u001b[0m\u001b[0;34m\u001b[0m\u001b[0m\n\u001b[0m\u001b[1;32m    598\u001b[0m     \u001b[0;32mfor\u001b[0m \u001b[0mj\u001b[0m \u001b[0;32min\u001b[0m \u001b[0mrange\u001b[0m\u001b[0;34m(\u001b[0m\u001b[0;36m0\u001b[0m\u001b[0;34m,\u001b[0m \u001b[0mnfit\u001b[0m\u001b[0;34m)\u001b[0m\u001b[0;34m:\u001b[0m\u001b[0;34m\u001b[0m\u001b[0;34m\u001b[0m\u001b[0m\n\u001b[1;32m    599\u001b[0m         \u001b[0mfig\u001b[0m\u001b[0;34m,\u001b[0m \u001b[0max\u001b[0m \u001b[0;34m=\u001b[0m \u001b[0mplt\u001b[0m\u001b[0;34m.\u001b[0m\u001b[0msubplots\u001b[0m\u001b[0;34m(\u001b[0m\u001b[0mfigsize\u001b[0m\u001b[0;34m=\u001b[0m\u001b[0;34m(\u001b[0m\u001b[0;36m1200\u001b[0m \u001b[0;34m*\u001b[0m \u001b[0mpx\u001b[0m\u001b[0;34m,\u001b[0m \u001b[0;36m800\u001b[0m \u001b[0;34m*\u001b[0m \u001b[0mpx\u001b[0m\u001b[0;34m)\u001b[0m\u001b[0;34m)\u001b[0m\u001b[0;34m\u001b[0m\u001b[0;34m\u001b[0m\u001b[0m\n",
      "\u001b[0;31mIndexError\u001b[0m: list index out of range"
     ]
    }
   ],
   "source": [
    "# START OF USER VARIABLES\n",
    "\n",
    "# Number of refinement iterations for each fit. More is better, but each fit will take longer\n",
    "ntry=4\n",
    "# Number of separate fits to perform (restarting a fit can lead to a better outcome). Cost scales linearly\n",
    "nfit=2\n",
    "# Define fragments using atom numbering from NGL window at top of notebook\n",
    "frags=[[9, 10, 4],[3,8],[7,2],[5,1,6]]\n",
    "# Minimum number of charges to fit for each fragment (can average fewer than 1 per atom)\n",
    "minFChg=[3,2,2,3]\n",
    "# Maximum number of charges to fit for each fragment (upper limit per atom fixed by maxAChg)\n",
    "maxFChg=[12,8,8,12]\n",
    "\n",
    "atomdir=workdir+'2-atomfit/'\n",
    "\n",
    "fit_fragments(workdir, frags, nfit, natm, maxAChg, atomdir, minFChg, \n",
    "                  maxFChg, longQ, bindir, refdir, mtpfile, potCube,\n",
    "                   densCube, ntry, htmldir, webPort, pdbfile)"
   ]
  },
  {
   "cell_type": "markdown",
   "metadata": {},
   "source": [
    "## Step 5: Combine fragments to build a molecular model\n",
    "\n",
    "In this step for each desired total number of charges for the whole molecule, all possible permutations of the fragment models are combined to find the lowest RMSE. For example, if there are 2 fragments and we request 6 charges for the molecule then we can try 5 charges from fragment 1 and 1 charge from fragment 2, or 4 charges from fragment 1 and 2 charges from fragment 2 and so on. Note that the RMSE is just an estimate based on the individual RMSEs of the fragments."
   ]
  },
  {
   "cell_type": "code",
   "execution_count": null,
   "metadata": {},
   "outputs": [],
   "source": [
    "minMChg=18\n",
    "maxMChg=54\n",
    "\n",
    "combine_fragements(workdir, minMChg, maxMChg, minFChg, maxFChg, \n",
    "                   frags, bindir, nfit, fragdir, htmldir, pdbfile, webPort):\n",
    "    "
   ]
  },
  {
   "cell_type": "markdown",
   "metadata": {},
   "source": [
    "## Step 6: Refine molecular models\n",
    "\n",
    "In this step the molecular models produced by combining fragment MDCMs are refined in a final simplex opimization"
   ]
  },
  {
   "cell_type": "code",
   "execution_count": null,
   "metadata": {},
   "outputs": [],
   "source": [
    "refine_models(workdir,  maxMChg , minMChg, combdir, longQ,\n",
    "                  bindir, mtpfile, potCube, densCube, maxAChg, webPort, pdbfile)"
   ]
  },
  {
   "cell_type": "markdown",
   "metadata": {},
   "source": [
    "## Step 6: Analysis\n",
    "\n",
    "In this step individual models can be examined in detail in terms of their performance compared to different multipole models with visualization of the ESP surface."
   ]
  },
  {
   "cell_type": "code",
   "execution_count": null,
   "metadata": {},
   "outputs": [],
   "source": [
    "nchg = 30\n",
    "#\n",
    "analyse_model(workdir, refinedir, nchg, mtpdir, bindir, potCube, densCube, qtot, htmldir, webPort, isoSurf=0.001) "
   ]
  },
  {
   "cell_type": "markdown",
   "metadata": {},
   "source": [
    "## Step 7: Export to CHARMM\n",
    "\n",
    "In this step the models can be exported in a format to be read by CHARMM's \"DCM\" module, defining charge positions relative to local axes to allow molecular dynamics simulation or energy calculations after conformational change."
   ]
  },
  {
   "cell_type": "code",
   "execution_count": null,
   "metadata": {},
   "outputs": [],
   "source": [
    "\n",
    "# cd /home/unibas/boittier/pydcm-1.2/test2/\n",
    "#python ~/get_frames.py ref/mol.pdb LIG\n",
    "# cd /home/unibas/boittier/pydcm-1.2/test2/7-to-charmm\n",
    "#../../bin/comb-xyz-to-dcm.pl ../5-refine/30-charges/30_charges_refined.xyz ../ref/N.p.cube ../../frame.txt butone-cf3-eq.dcm \n"
   ]
  },
  {
   "cell_type": "code",
   "execution_count": null,
   "metadata": {},
   "outputs": [],
   "source": []
  },
  {
   "cell_type": "code",
   "execution_count": null,
   "metadata": {},
   "outputs": [],
   "source": []
  },
  {
   "cell_type": "code",
   "execution_count": null,
   "metadata": {},
   "outputs": [],
   "source": []
  },
  {
   "cell_type": "code",
   "execution_count": null,
   "metadata": {},
   "outputs": [],
   "source": []
  },
  {
   "cell_type": "code",
   "execution_count": null,
   "metadata": {},
   "outputs": [],
   "source": []
  }
 ],
 "metadata": {
  "kernelspec": {
   "display_name": "my-rdkit-env",
   "language": "python",
   "name": "my-rdkit-env"
  },
  "language_info": {
   "codemirror_mode": {
    "name": "ipython",
    "version": 3
   },
   "file_extension": ".py",
   "mimetype": "text/x-python",
   "name": "python",
   "nbconvert_exporter": "python",
   "pygments_lexer": "ipython3",
   "version": "3.6.10"
  }
 },
 "nbformat": 4,
 "nbformat_minor": 4
}
